{
 "cells": [
  {
   "cell_type": "markdown",
   "metadata": {},
   "source": [
    "# Data Analytics Must Knows\n",
    "\n",
    "### Pandas, SQL, PySpark"
   ]
  },
  {
   "cell_type": "markdown",
   "metadata": {},
   "source": [
    "Situation: \n",
    "\n",
    "You are given a JSON data formatted as a string which holds basic employee information in a company that has several departments, and you are given a series of analytics questions to analyze. \n",
    "\n",
    "You are to provide your solutions to each question in every language/library - **Pandas**, **SQL**, and **PySpark**.\n",
    "\n",
    "The data given to you is shown in the next cell:"
   ]
  },
  {
   "cell_type": "code",
   "execution_count": 1,
   "metadata": {},
   "outputs": [],
   "source": [
    "employees_json = \"\"\"\n",
    "    [\n",
    "        {\"EmployeeID\":1, \"Name\":\"Alice\", \"Department\":\"HR\", \"Salary\":60000, \"JoiningDate\":\"2019-01-15\", \"PerformanceScore\":3},\n",
    "        {\"EmployeeID\":2, \"Name\":\"Bob\", \"Department\":\"IT\", \"Salary\":70000, \"JoiningDate\":\"2019-06-20\", \"PerformanceScore\":4},\n",
    "        {\"EmployeeID\":3, \"Name\":\"Charlie\", \"Department\":\"IT\", \"Salary\":80000, \"JoiningDate\":\"2018-07-23\", \"PerformanceScore\":2},\n",
    "        {\"EmployeeID\":4, \"Name\":\"David\", \"Department\":\"HR\", \"Salary\":65000, \"JoiningDate\":\"2020-02-10\", \"PerformanceScore\":5},\n",
    "        {\"EmployeeID\":5, \"Name\":\"Eve\", \"Department\":\"Finance\", \"Salary\":75000, \"JoiningDate\":\"2021-03-15\", \"PerformanceScore\":3}\n",
    "    ]\n",
    "\"\"\"\n",
    "bonuses_json = \"\"\"\n",
    "    [\n",
    "        {\"EmployeeID\":1, \"Bonus\":5000},\n",
    "        {\"EmployeeID\":2, \"Bonus\":7000},\n",
    "        {\"EmployeeID\":3, \"Bonus\":8000},\n",
    "        {\"EmployeeID\":6, \"Bonus\":6000}\n",
    "    ]\n",
    "\"\"\""
   ]
  },
  {
   "cell_type": "markdown",
   "metadata": {},
   "source": [
    "**Q0: Import the necessary libraries and perform the necessary setup to complete the tasks for all the indivated languages and libraries.**"
   ]
  },
  {
   "cell_type": "markdown",
   "metadata": {},
   "source": [
    "Import libraries"
   ]
  },
  {
   "cell_type": "code",
   "execution_count": 43,
   "metadata": {},
   "outputs": [],
   "source": [
    "# DateTime and math\n",
    "import math\n",
    "from datetime import datetime, date \n",
    "# JSON\n",
    "import json\n",
    "# Pandas\n",
    "import pandas as pd\n",
    "# SQL\n",
    "import os\n",
    "from dotenv import load_dotenv\n",
    "import psycopg2\n",
    "from sqlalchemy import create_engine\n",
    "from sqlalchemy.sql import text\n",
    "# PySpark\n",
    "import pyspark\n",
    "from pyspark.sql import SparkSession\n",
    "from pyspark.sql.window import Window\n",
    "from pyspark.sql import functions as F"
   ]
  },
  {
   "cell_type": "markdown",
   "metadata": {},
   "source": [
    "JSON Parsing"
   ]
  },
  {
   "cell_type": "code",
   "execution_count": 3,
   "metadata": {},
   "outputs": [
    {
     "data": {
      "text/plain": [
       "{'EmployeeID': 1,\n",
       " 'Name': 'Alice',\n",
       " 'Department': 'HR',\n",
       " 'Salary': 60000,\n",
       " 'JoiningDate': '2019-01-15',\n",
       " 'PerformanceScore': 3}"
      ]
     },
     "execution_count": 3,
     "metadata": {},
     "output_type": "execute_result"
    }
   ],
   "source": [
    "# JSON Parsing (Employee)\n",
    "employees_dict = json.loads(employees_json)\n",
    "employees_dict[0]"
   ]
  },
  {
   "cell_type": "code",
   "execution_count": 4,
   "metadata": {},
   "outputs": [
    {
     "data": {
      "text/plain": [
       "{'EmployeeID': 1, 'Bonus': 5000}"
      ]
     },
     "execution_count": 4,
     "metadata": {},
     "output_type": "execute_result"
    }
   ],
   "source": [
    "# JSON Parsing (Bonuses)\n",
    "bonuses_dict = json.loads(bonuses_json)\n",
    "bonuses_dict[0]"
   ]
  },
  {
   "cell_type": "markdown",
   "metadata": {},
   "source": [
    "Setup Pandas"
   ]
  },
  {
   "cell_type": "code",
   "execution_count": 5,
   "metadata": {},
   "outputs": [
    {
     "data": {
      "text/html": [
       "<div>\n",
       "<style scoped>\n",
       "    .dataframe tbody tr th:only-of-type {\n",
       "        vertical-align: middle;\n",
       "    }\n",
       "\n",
       "    .dataframe tbody tr th {\n",
       "        vertical-align: top;\n",
       "    }\n",
       "\n",
       "    .dataframe thead th {\n",
       "        text-align: right;\n",
       "    }\n",
       "</style>\n",
       "<table border=\"1\" class=\"dataframe\">\n",
       "  <thead>\n",
       "    <tr style=\"text-align: right;\">\n",
       "      <th></th>\n",
       "      <th>EmployeeID</th>\n",
       "      <th>Name</th>\n",
       "      <th>Department</th>\n",
       "      <th>Salary</th>\n",
       "      <th>JoiningDate</th>\n",
       "      <th>PerformanceScore</th>\n",
       "    </tr>\n",
       "  </thead>\n",
       "  <tbody>\n",
       "    <tr>\n",
       "      <th>0</th>\n",
       "      <td>1</td>\n",
       "      <td>Alice</td>\n",
       "      <td>HR</td>\n",
       "      <td>60000</td>\n",
       "      <td>2019-01-15</td>\n",
       "      <td>3</td>\n",
       "    </tr>\n",
       "    <tr>\n",
       "      <th>1</th>\n",
       "      <td>2</td>\n",
       "      <td>Bob</td>\n",
       "      <td>IT</td>\n",
       "      <td>70000</td>\n",
       "      <td>2019-06-20</td>\n",
       "      <td>4</td>\n",
       "    </tr>\n",
       "    <tr>\n",
       "      <th>2</th>\n",
       "      <td>3</td>\n",
       "      <td>Charlie</td>\n",
       "      <td>IT</td>\n",
       "      <td>80000</td>\n",
       "      <td>2018-07-23</td>\n",
       "      <td>2</td>\n",
       "    </tr>\n",
       "    <tr>\n",
       "      <th>3</th>\n",
       "      <td>4</td>\n",
       "      <td>David</td>\n",
       "      <td>HR</td>\n",
       "      <td>65000</td>\n",
       "      <td>2020-02-10</td>\n",
       "      <td>5</td>\n",
       "    </tr>\n",
       "    <tr>\n",
       "      <th>4</th>\n",
       "      <td>5</td>\n",
       "      <td>Eve</td>\n",
       "      <td>Finance</td>\n",
       "      <td>75000</td>\n",
       "      <td>2021-03-15</td>\n",
       "      <td>3</td>\n",
       "    </tr>\n",
       "  </tbody>\n",
       "</table>\n",
       "</div>"
      ],
      "text/plain": [
       "   EmployeeID     Name Department  Salary JoiningDate  PerformanceScore\n",
       "0           1    Alice         HR   60000  2019-01-15                 3\n",
       "1           2      Bob         IT   70000  2019-06-20                 4\n",
       "2           3  Charlie         IT   80000  2018-07-23                 2\n",
       "3           4    David         HR   65000  2020-02-10                 5\n",
       "4           5      Eve    Finance   75000  2021-03-15                 3"
      ]
     },
     "execution_count": 5,
     "metadata": {},
     "output_type": "execute_result"
    }
   ],
   "source": [
    "employees_pd = pd.DataFrame(employees_dict)\n",
    "employees_pd"
   ]
  },
  {
   "cell_type": "code",
   "execution_count": 6,
   "metadata": {},
   "outputs": [
    {
     "data": {
      "text/html": [
       "<div>\n",
       "<style scoped>\n",
       "    .dataframe tbody tr th:only-of-type {\n",
       "        vertical-align: middle;\n",
       "    }\n",
       "\n",
       "    .dataframe tbody tr th {\n",
       "        vertical-align: top;\n",
       "    }\n",
       "\n",
       "    .dataframe thead th {\n",
       "        text-align: right;\n",
       "    }\n",
       "</style>\n",
       "<table border=\"1\" class=\"dataframe\">\n",
       "  <thead>\n",
       "    <tr style=\"text-align: right;\">\n",
       "      <th></th>\n",
       "      <th>EmployeeID</th>\n",
       "      <th>Bonus</th>\n",
       "    </tr>\n",
       "  </thead>\n",
       "  <tbody>\n",
       "    <tr>\n",
       "      <th>0</th>\n",
       "      <td>1</td>\n",
       "      <td>5000</td>\n",
       "    </tr>\n",
       "    <tr>\n",
       "      <th>1</th>\n",
       "      <td>2</td>\n",
       "      <td>7000</td>\n",
       "    </tr>\n",
       "    <tr>\n",
       "      <th>2</th>\n",
       "      <td>3</td>\n",
       "      <td>8000</td>\n",
       "    </tr>\n",
       "    <tr>\n",
       "      <th>3</th>\n",
       "      <td>6</td>\n",
       "      <td>6000</td>\n",
       "    </tr>\n",
       "  </tbody>\n",
       "</table>\n",
       "</div>"
      ],
      "text/plain": [
       "   EmployeeID  Bonus\n",
       "0           1   5000\n",
       "1           2   7000\n",
       "2           3   8000\n",
       "3           6   6000"
      ]
     },
     "execution_count": 6,
     "metadata": {},
     "output_type": "execute_result"
    }
   ],
   "source": [
    "bonuses_pd = pd.DataFrame(bonuses_dict)\n",
    "bonuses_pd"
   ]
  },
  {
   "cell_type": "markdown",
   "metadata": {},
   "source": [
    "Setup PostgreSQL"
   ]
  },
  {
   "cell_type": "code",
   "execution_count": 7,
   "metadata": {},
   "outputs": [],
   "source": [
    "# Get credentials\n",
    "load_dotenv()\n",
    "user = os.environ.get(\"USER\")\n",
    "pw = os.environ.get(\"PASS\")\n",
    "db = os.environ.get(\"DB\")\n",
    "host = os.environ.get(\"HOST\")\n",
    "api = os.environ.get(\"API\")\n",
    "port = 5432\n",
    "schema = 'da_must_knows'"
   ]
  },
  {
   "cell_type": "code",
   "execution_count": 8,
   "metadata": {},
   "outputs": [],
   "source": [
    "# Connect to database\n",
    "uri = f\"postgresql+psycopg2://{user}:{pw}@{host}:{port}/{db}\"\n",
    "alchemyEngine = create_engine(uri)\n",
    "conn = alchemyEngine.connect()"
   ]
  },
  {
   "cell_type": "code",
   "execution_count": 9,
   "metadata": {},
   "outputs": [
    {
     "data": {
      "text/plain": [
       "4"
      ]
     },
     "execution_count": 9,
     "metadata": {},
     "output_type": "execute_result"
    }
   ],
   "source": [
    "# Load to SQL\n",
    "conn.execute(text(f'DROP SCHEMA IF EXISTS {schema} CASCADE'))\n",
    "conn.execute(text(f'CREATE SCHEMA {schema}'))\n",
    "employees_pd.to_sql(con=conn,name=\"employees\",schema=schema)\n",
    "bonuses_pd.to_sql(con=conn,name=\"bonuses\",schema=schema)"
   ]
  },
  {
   "cell_type": "code",
   "execution_count": 10,
   "metadata": {},
   "outputs": [
    {
     "name": "stdout",
     "output_type": "stream",
     "text": [
      "The tables in the database are: employees, bonuses\n"
     ]
    }
   ],
   "source": [
    "rs = conn.execute(text(f\"SELECT table_name FROM information_schema.tables WHERE table_schema='{schema}'\"))\n",
    "tables = [table[0] for table in rs.fetchall()]\n",
    "print(f\"The tables in the database are: {', '.join(tables)}\")"
   ]
  },
  {
   "cell_type": "code",
   "execution_count": 11,
   "metadata": {},
   "outputs": [
    {
     "name": "stdout",
     "output_type": "stream",
     "text": [
      "=================================\n",
      "Table [employees]\n",
      "Dimensions: 5 rows x 7 columns\n",
      "\n",
      "   index  EmployeeID     Name Department  Salary JoiningDate  PerformanceScore\n",
      "0      0           1    Alice         HR   60000  2019-01-15                 3\n",
      "1      1           2      Bob         IT   70000  2019-06-20                 4\n",
      "2      2           3  Charlie         IT   80000  2018-07-23                 2\n",
      "3      3           4    David         HR   65000  2020-02-10                 5\n",
      "4      4           5      Eve    Finance   75000  2021-03-15                 3\n",
      "\n",
      "                 Datatypes  NULL count\n",
      "index                int64           0\n",
      "EmployeeID           int64           0\n",
      "Name                object           0\n",
      "Department          object           0\n",
      "Salary               int64           0\n",
      "JoiningDate         object           0\n",
      "PerformanceScore     int64           0\n",
      "\n",
      "=================================\n",
      "Table [bonuses]\n",
      "Dimensions: 4 rows x 3 columns\n",
      "\n",
      "   index  EmployeeID  Bonus\n",
      "0      0           1   5000\n",
      "1      1           2   7000\n",
      "2      2           3   8000\n",
      "3      3           6   6000\n",
      "\n",
      "           Datatypes  NULL count\n",
      "index          int64           0\n",
      "EmployeeID     int64           0\n",
      "Bonus          int64           0\n",
      "\n"
     ]
    }
   ],
   "source": [
    "for table in tables:\n",
    "    print(\"=================================\")\n",
    "    print(f'Table [{table}]')\n",
    "    df = pd.read_sql_query(f'SELECT * FROM {schema}.{table} LIMIT 5', conn)\n",
    "    print(f'Dimensions: {df.shape[0]} rows x {df.shape[1]} columns\\n')\n",
    "    print(df.head())\n",
    "    info_df = pd.DataFrame.from_dict({'Datatypes':df.dtypes, 'NULL count':df.isna().sum()})\n",
    "    print()\n",
    "    print(info_df)\n",
    "    print()"
   ]
  },
  {
   "cell_type": "markdown",
   "metadata": {},
   "source": [
    "Setup PySpark"
   ]
  },
  {
   "cell_type": "code",
   "execution_count": 12,
   "metadata": {},
   "outputs": [],
   "source": [
    "spark = SparkSession.builder.getOrCreate()"
   ]
  },
  {
   "cell_type": "code",
   "execution_count": 13,
   "metadata": {},
   "outputs": [
    {
     "name": "stdout",
     "output_type": "stream",
     "text": [
      "+----------+-------+----------+------+-----------+----------------+\n",
      "|EmployeeID|   Name|Department|Salary|JoiningDate|PerformanceScore|\n",
      "+----------+-------+----------+------+-----------+----------------+\n",
      "|         1|  Alice|        HR| 60000| 2019-01-15|               3|\n",
      "|         2|    Bob|        IT| 70000| 2019-06-20|               4|\n",
      "|         3|Charlie|        IT| 80000| 2018-07-23|               2|\n",
      "|         4|  David|        HR| 65000| 2020-02-10|               5|\n",
      "|         5|    Eve|   Finance| 75000| 2021-03-15|               3|\n",
      "+----------+-------+----------+------+-----------+----------------+\n",
      "\n",
      "root\n",
      " |-- EmployeeID: long (nullable = true)\n",
      " |-- Name: string (nullable = true)\n",
      " |-- Department: string (nullable = true)\n",
      " |-- Salary: long (nullable = true)\n",
      " |-- JoiningDate: string (nullable = true)\n",
      " |-- PerformanceScore: long (nullable = true)\n",
      "\n"
     ]
    }
   ],
   "source": [
    "employees_ps = spark.createDataFrame(employees_pd)\n",
    "employees_ps.show()\n",
    "employees_ps.printSchema()"
   ]
  },
  {
   "cell_type": "code",
   "execution_count": 14,
   "metadata": {},
   "outputs": [
    {
     "name": "stdout",
     "output_type": "stream",
     "text": [
      "+----------+-----+\n",
      "|EmployeeID|Bonus|\n",
      "+----------+-----+\n",
      "|         1| 5000|\n",
      "|         2| 7000|\n",
      "|         3| 8000|\n",
      "|         6| 6000|\n",
      "+----------+-----+\n",
      "\n",
      "root\n",
      " |-- EmployeeID: long (nullable = true)\n",
      " |-- Bonus: long (nullable = true)\n",
      "\n"
     ]
    }
   ],
   "source": [
    "bonuses_ps = spark.createDataFrame(bonuses_pd)\n",
    "bonuses_ps.show()\n",
    "bonuses_ps.printSchema()"
   ]
  },
  {
   "cell_type": "markdown",
   "metadata": {},
   "source": [
    "**Q1: How can you calculate the average salary for each department?**"
   ]
  },
  {
   "cell_type": "code",
   "execution_count": 15,
   "metadata": {},
   "outputs": [
    {
     "data": {
      "text/html": [
       "<div>\n",
       "<style scoped>\n",
       "    .dataframe tbody tr th:only-of-type {\n",
       "        vertical-align: middle;\n",
       "    }\n",
       "\n",
       "    .dataframe tbody tr th {\n",
       "        vertical-align: top;\n",
       "    }\n",
       "\n",
       "    .dataframe thead th {\n",
       "        text-align: right;\n",
       "    }\n",
       "</style>\n",
       "<table border=\"1\" class=\"dataframe\">\n",
       "  <thead>\n",
       "    <tr style=\"text-align: right;\">\n",
       "      <th></th>\n",
       "      <th>Department</th>\n",
       "      <th>Salary</th>\n",
       "    </tr>\n",
       "  </thead>\n",
       "  <tbody>\n",
       "    <tr>\n",
       "      <th>0</th>\n",
       "      <td>Finance</td>\n",
       "      <td>75000.0</td>\n",
       "    </tr>\n",
       "    <tr>\n",
       "      <th>1</th>\n",
       "      <td>HR</td>\n",
       "      <td>62500.0</td>\n",
       "    </tr>\n",
       "    <tr>\n",
       "      <th>2</th>\n",
       "      <td>IT</td>\n",
       "      <td>75000.0</td>\n",
       "    </tr>\n",
       "  </tbody>\n",
       "</table>\n",
       "</div>"
      ],
      "text/plain": [
       "  Department   Salary\n",
       "0    Finance  75000.0\n",
       "1         HR  62500.0\n",
       "2         IT  75000.0"
      ]
     },
     "execution_count": 15,
     "metadata": {},
     "output_type": "execute_result"
    }
   ],
   "source": [
    "# Pandas solution\n",
    "average_salary = employees_pd.groupby('Department')['Salary'].mean().reset_index()\n",
    "average_salary"
   ]
  },
  {
   "cell_type": "code",
   "execution_count": 16,
   "metadata": {},
   "outputs": [
    {
     "data": {
      "text/html": [
       "<div>\n",
       "<style scoped>\n",
       "    .dataframe tbody tr th:only-of-type {\n",
       "        vertical-align: middle;\n",
       "    }\n",
       "\n",
       "    .dataframe tbody tr th {\n",
       "        vertical-align: top;\n",
       "    }\n",
       "\n",
       "    .dataframe thead th {\n",
       "        text-align: right;\n",
       "    }\n",
       "</style>\n",
       "<table border=\"1\" class=\"dataframe\">\n",
       "  <thead>\n",
       "    <tr style=\"text-align: right;\">\n",
       "      <th></th>\n",
       "      <th>Department</th>\n",
       "      <th>Salary</th>\n",
       "    </tr>\n",
       "  </thead>\n",
       "  <tbody>\n",
       "    <tr>\n",
       "      <th>0</th>\n",
       "      <td>Finance</td>\n",
       "      <td>75000.0</td>\n",
       "    </tr>\n",
       "    <tr>\n",
       "      <th>1</th>\n",
       "      <td>IT</td>\n",
       "      <td>75000.0</td>\n",
       "    </tr>\n",
       "    <tr>\n",
       "      <th>2</th>\n",
       "      <td>HR</td>\n",
       "      <td>62500.0</td>\n",
       "    </tr>\n",
       "  </tbody>\n",
       "</table>\n",
       "</div>"
      ],
      "text/plain": [
       "  Department   Salary\n",
       "0    Finance  75000.0\n",
       "1         IT  75000.0\n",
       "2         HR  62500.0"
      ]
     },
     "execution_count": 16,
     "metadata": {},
     "output_type": "execute_result"
    }
   ],
   "source": [
    "# SQL Solution\n",
    "average_salary = pd.read_sql_query(f'''\n",
    "    SELECT \"Department\", AVG(\"Salary\") AS \"Salary\"\n",
    "    FROM {schema}.employees\n",
    "    GROUP BY \"Department\"\n",
    "''',conn)\n",
    "average_salary"
   ]
  },
  {
   "cell_type": "code",
   "execution_count": 17,
   "metadata": {},
   "outputs": [
    {
     "name": "stdout",
     "output_type": "stream",
     "text": [
      "+----------+-----------+\n",
      "|Department|avg(salary)|\n",
      "+----------+-----------+\n",
      "|HR        |62500.0    |\n",
      "|IT        |75000.0    |\n",
      "|Finance   |75000.0    |\n",
      "+----------+-----------+\n",
      "\n"
     ]
    }
   ],
   "source": [
    "# PySpark Solution\n",
    "employees_ps.groupBy('Department').avg(\"salary\").alias(\"avg_salary\").show(truncate=False)"
   ]
  },
  {
   "cell_type": "markdown",
   "metadata": {},
   "source": [
    "**Q2: Determine the employee with the highest performance score in each department.**"
   ]
  },
  {
   "cell_type": "code",
   "execution_count": 18,
   "metadata": {},
   "outputs": [
    {
     "data": {
      "text/html": [
       "<div>\n",
       "<style scoped>\n",
       "    .dataframe tbody tr th:only-of-type {\n",
       "        vertical-align: middle;\n",
       "    }\n",
       "\n",
       "    .dataframe tbody tr th {\n",
       "        vertical-align: top;\n",
       "    }\n",
       "\n",
       "    .dataframe thead th {\n",
       "        text-align: right;\n",
       "    }\n",
       "</style>\n",
       "<table border=\"1\" class=\"dataframe\">\n",
       "  <thead>\n",
       "    <tr style=\"text-align: right;\">\n",
       "      <th></th>\n",
       "      <th>EmployeeID</th>\n",
       "      <th>Name</th>\n",
       "      <th>Department</th>\n",
       "      <th>Salary</th>\n",
       "      <th>JoiningDate</th>\n",
       "      <th>PerformanceScore</th>\n",
       "    </tr>\n",
       "  </thead>\n",
       "  <tbody>\n",
       "    <tr>\n",
       "      <th>4</th>\n",
       "      <td>5</td>\n",
       "      <td>Eve</td>\n",
       "      <td>Finance</td>\n",
       "      <td>75000</td>\n",
       "      <td>2021-03-15</td>\n",
       "      <td>3</td>\n",
       "    </tr>\n",
       "    <tr>\n",
       "      <th>3</th>\n",
       "      <td>4</td>\n",
       "      <td>David</td>\n",
       "      <td>HR</td>\n",
       "      <td>65000</td>\n",
       "      <td>2020-02-10</td>\n",
       "      <td>5</td>\n",
       "    </tr>\n",
       "    <tr>\n",
       "      <th>1</th>\n",
       "      <td>2</td>\n",
       "      <td>Bob</td>\n",
       "      <td>IT</td>\n",
       "      <td>70000</td>\n",
       "      <td>2019-06-20</td>\n",
       "      <td>4</td>\n",
       "    </tr>\n",
       "  </tbody>\n",
       "</table>\n",
       "</div>"
      ],
      "text/plain": [
       "   EmployeeID   Name Department  Salary JoiningDate  PerformanceScore\n",
       "4           5    Eve    Finance   75000  2021-03-15                 3\n",
       "3           4  David         HR   65000  2020-02-10                 5\n",
       "1           2    Bob         IT   70000  2019-06-20                 4"
      ]
     },
     "execution_count": 18,
     "metadata": {},
     "output_type": "execute_result"
    }
   ],
   "source": [
    "# Pandas solution\n",
    "x = employees_pd.groupby('Department')['PerformanceScore'].idxmax()\n",
    "highest_performers = employees_pd.loc[x]\n",
    "highest_performers"
   ]
  },
  {
   "cell_type": "code",
   "execution_count": 19,
   "metadata": {},
   "outputs": [
    {
     "data": {
      "text/html": [
       "<div>\n",
       "<style scoped>\n",
       "    .dataframe tbody tr th:only-of-type {\n",
       "        vertical-align: middle;\n",
       "    }\n",
       "\n",
       "    .dataframe tbody tr th {\n",
       "        vertical-align: top;\n",
       "    }\n",
       "\n",
       "    .dataframe thead th {\n",
       "        text-align: right;\n",
       "    }\n",
       "</style>\n",
       "<table border=\"1\" class=\"dataframe\">\n",
       "  <thead>\n",
       "    <tr style=\"text-align: right;\">\n",
       "      <th></th>\n",
       "      <th>index</th>\n",
       "      <th>EmployeeID</th>\n",
       "      <th>Name</th>\n",
       "      <th>Department</th>\n",
       "      <th>Salary</th>\n",
       "      <th>JoiningDate</th>\n",
       "      <th>PerformanceScore</th>\n",
       "      <th>rank</th>\n",
       "    </tr>\n",
       "  </thead>\n",
       "  <tbody>\n",
       "    <tr>\n",
       "      <th>0</th>\n",
       "      <td>4</td>\n",
       "      <td>5</td>\n",
       "      <td>Eve</td>\n",
       "      <td>Finance</td>\n",
       "      <td>75000</td>\n",
       "      <td>2021-03-15</td>\n",
       "      <td>3</td>\n",
       "      <td>1</td>\n",
       "    </tr>\n",
       "    <tr>\n",
       "      <th>1</th>\n",
       "      <td>3</td>\n",
       "      <td>4</td>\n",
       "      <td>David</td>\n",
       "      <td>HR</td>\n",
       "      <td>65000</td>\n",
       "      <td>2020-02-10</td>\n",
       "      <td>5</td>\n",
       "      <td>1</td>\n",
       "    </tr>\n",
       "    <tr>\n",
       "      <th>2</th>\n",
       "      <td>1</td>\n",
       "      <td>2</td>\n",
       "      <td>Bob</td>\n",
       "      <td>IT</td>\n",
       "      <td>70000</td>\n",
       "      <td>2019-06-20</td>\n",
       "      <td>4</td>\n",
       "      <td>1</td>\n",
       "    </tr>\n",
       "  </tbody>\n",
       "</table>\n",
       "</div>"
      ],
      "text/plain": [
       "   index  EmployeeID   Name Department  Salary JoiningDate  PerformanceScore  \\\n",
       "0      4           5    Eve    Finance   75000  2021-03-15                 3   \n",
       "1      3           4  David         HR   65000  2020-02-10                 5   \n",
       "2      1           2    Bob         IT   70000  2019-06-20                 4   \n",
       "\n",
       "   rank  \n",
       "0     1  \n",
       "1     1  \n",
       "2     1  "
      ]
     },
     "execution_count": 19,
     "metadata": {},
     "output_type": "execute_result"
    }
   ],
   "source": [
    "# SQL Solution\n",
    "highest_performers = pd.read_sql_query(f'''\n",
    "    WITH rank_per_department AS (\n",
    "        SELECT *, RANK() OVER \n",
    "            (PARTITION BY \"Department\" ORDER BY \"PerformanceScore\" DESC) AS \"rank\"\n",
    "        FROM {schema}.employees\n",
    "    )\n",
    "    SELECT *\n",
    "    FROM rank_per_department\n",
    "    WHERE rank = 1       \n",
    "''',conn)\n",
    "highest_performers"
   ]
  },
  {
   "cell_type": "code",
   "execution_count": 20,
   "metadata": {},
   "outputs": [
    {
     "name": "stdout",
     "output_type": "stream",
     "text": [
      "+----------+-------+----------+------+-----------+----------------+----+\n",
      "|EmployeeID|   Name|Department|Salary|JoiningDate|PerformanceScore|rank|\n",
      "+----------+-------+----------+------+-----------+----------------+----+\n",
      "|         5|    Eve|   Finance| 75000| 2021-03-15|               3|   1|\n",
      "|         1|  Alice|        HR| 60000| 2019-01-15|               3|   1|\n",
      "|         3|Charlie|        IT| 80000| 2018-07-23|               2|   1|\n",
      "+----------+-------+----------+------+-----------+----------------+----+\n",
      "\n"
     ]
    }
   ],
   "source": [
    "# PySpark Solution\n",
    "windowSpec = Window.partitionBy(\"department\").orderBy(\"PerformanceScore\")\n",
    "ranks = employees_ps.withColumn(\"rank\",F.rank().over(windowSpec))\n",
    "highest_performers = ranks.filter('rank == 1')\n",
    "highest_performers.show()"
   ]
  },
  {
   "cell_type": "markdown",
   "metadata": {},
   "source": [
    "**Q3: Add a new column that represents the number of years each employee has been with the company based on the JoiningDate.**"
   ]
  },
  {
   "cell_type": "code",
   "execution_count": 21,
   "metadata": {},
   "outputs": [
    {
     "data": {
      "text/html": [
       "<div>\n",
       "<style scoped>\n",
       "    .dataframe tbody tr th:only-of-type {\n",
       "        vertical-align: middle;\n",
       "    }\n",
       "\n",
       "    .dataframe tbody tr th {\n",
       "        vertical-align: top;\n",
       "    }\n",
       "\n",
       "    .dataframe thead th {\n",
       "        text-align: right;\n",
       "    }\n",
       "</style>\n",
       "<table border=\"1\" class=\"dataframe\">\n",
       "  <thead>\n",
       "    <tr style=\"text-align: right;\">\n",
       "      <th></th>\n",
       "      <th>EmployeeID</th>\n",
       "      <th>Name</th>\n",
       "      <th>Department</th>\n",
       "      <th>Salary</th>\n",
       "      <th>JoiningDate</th>\n",
       "      <th>PerformanceScore</th>\n",
       "      <th>YearsWithCompany</th>\n",
       "    </tr>\n",
       "  </thead>\n",
       "  <tbody>\n",
       "    <tr>\n",
       "      <th>0</th>\n",
       "      <td>1</td>\n",
       "      <td>Alice</td>\n",
       "      <td>HR</td>\n",
       "      <td>60000</td>\n",
       "      <td>2019-01-15</td>\n",
       "      <td>3</td>\n",
       "      <td>5</td>\n",
       "    </tr>\n",
       "    <tr>\n",
       "      <th>1</th>\n",
       "      <td>2</td>\n",
       "      <td>Bob</td>\n",
       "      <td>IT</td>\n",
       "      <td>70000</td>\n",
       "      <td>2019-06-20</td>\n",
       "      <td>4</td>\n",
       "      <td>5</td>\n",
       "    </tr>\n",
       "    <tr>\n",
       "      <th>2</th>\n",
       "      <td>3</td>\n",
       "      <td>Charlie</td>\n",
       "      <td>IT</td>\n",
       "      <td>80000</td>\n",
       "      <td>2018-07-23</td>\n",
       "      <td>2</td>\n",
       "      <td>6</td>\n",
       "    </tr>\n",
       "    <tr>\n",
       "      <th>3</th>\n",
       "      <td>4</td>\n",
       "      <td>David</td>\n",
       "      <td>HR</td>\n",
       "      <td>65000</td>\n",
       "      <td>2020-02-10</td>\n",
       "      <td>5</td>\n",
       "      <td>4</td>\n",
       "    </tr>\n",
       "    <tr>\n",
       "      <th>4</th>\n",
       "      <td>5</td>\n",
       "      <td>Eve</td>\n",
       "      <td>Finance</td>\n",
       "      <td>75000</td>\n",
       "      <td>2021-03-15</td>\n",
       "      <td>3</td>\n",
       "      <td>3</td>\n",
       "    </tr>\n",
       "  </tbody>\n",
       "</table>\n",
       "</div>"
      ],
      "text/plain": [
       "   EmployeeID     Name Department  Salary JoiningDate  PerformanceScore  \\\n",
       "0           1    Alice         HR   60000  2019-01-15                 3   \n",
       "1           2      Bob         IT   70000  2019-06-20                 4   \n",
       "2           3  Charlie         IT   80000  2018-07-23                 2   \n",
       "3           4    David         HR   65000  2020-02-10                 5   \n",
       "4           5      Eve    Finance   75000  2021-03-15                 3   \n",
       "\n",
       "   YearsWithCompany  \n",
       "0                 5  \n",
       "1                 5  \n",
       "2                 6  \n",
       "3                 4  \n",
       "4                 3  "
      ]
     },
     "execution_count": 21,
     "metadata": {},
     "output_type": "execute_result"
    }
   ],
   "source": [
    "# Pandas solution\n",
    "employees_pd['JoiningDate'] = pd.to_datetime(employees_pd['JoiningDate'])\n",
    "current_date = datetime.now()\n",
    "employees_pd['YearsWithCompany'] = (current_date - employees_pd['JoiningDate']).dt.days // 365\n",
    "employees_pd"
   ]
  },
  {
   "cell_type": "code",
   "execution_count": 22,
   "metadata": {},
   "outputs": [
    {
     "data": {
      "text/html": [
       "<div>\n",
       "<style scoped>\n",
       "    .dataframe tbody tr th:only-of-type {\n",
       "        vertical-align: middle;\n",
       "    }\n",
       "\n",
       "    .dataframe tbody tr th {\n",
       "        vertical-align: top;\n",
       "    }\n",
       "\n",
       "    .dataframe thead th {\n",
       "        text-align: right;\n",
       "    }\n",
       "</style>\n",
       "<table border=\"1\" class=\"dataframe\">\n",
       "  <thead>\n",
       "    <tr style=\"text-align: right;\">\n",
       "      <th></th>\n",
       "      <th>index</th>\n",
       "      <th>EmployeeID</th>\n",
       "      <th>Name</th>\n",
       "      <th>Department</th>\n",
       "      <th>Salary</th>\n",
       "      <th>JoiningDate</th>\n",
       "      <th>PerformanceScore</th>\n",
       "      <th>YearsWithCompany</th>\n",
       "    </tr>\n",
       "  </thead>\n",
       "  <tbody>\n",
       "    <tr>\n",
       "      <th>0</th>\n",
       "      <td>0</td>\n",
       "      <td>1</td>\n",
       "      <td>Alice</td>\n",
       "      <td>HR</td>\n",
       "      <td>60000</td>\n",
       "      <td>2019-01-15</td>\n",
       "      <td>3</td>\n",
       "      <td>5</td>\n",
       "    </tr>\n",
       "    <tr>\n",
       "      <th>1</th>\n",
       "      <td>1</td>\n",
       "      <td>2</td>\n",
       "      <td>Bob</td>\n",
       "      <td>IT</td>\n",
       "      <td>70000</td>\n",
       "      <td>2019-06-20</td>\n",
       "      <td>4</td>\n",
       "      <td>5</td>\n",
       "    </tr>\n",
       "    <tr>\n",
       "      <th>2</th>\n",
       "      <td>2</td>\n",
       "      <td>3</td>\n",
       "      <td>Charlie</td>\n",
       "      <td>IT</td>\n",
       "      <td>80000</td>\n",
       "      <td>2018-07-23</td>\n",
       "      <td>2</td>\n",
       "      <td>6</td>\n",
       "    </tr>\n",
       "    <tr>\n",
       "      <th>3</th>\n",
       "      <td>3</td>\n",
       "      <td>4</td>\n",
       "      <td>David</td>\n",
       "      <td>HR</td>\n",
       "      <td>65000</td>\n",
       "      <td>2020-02-10</td>\n",
       "      <td>5</td>\n",
       "      <td>4</td>\n",
       "    </tr>\n",
       "    <tr>\n",
       "      <th>4</th>\n",
       "      <td>4</td>\n",
       "      <td>5</td>\n",
       "      <td>Eve</td>\n",
       "      <td>Finance</td>\n",
       "      <td>75000</td>\n",
       "      <td>2021-03-15</td>\n",
       "      <td>3</td>\n",
       "      <td>3</td>\n",
       "    </tr>\n",
       "  </tbody>\n",
       "</table>\n",
       "</div>"
      ],
      "text/plain": [
       "   index  EmployeeID     Name Department  Salary JoiningDate  \\\n",
       "0      0           1    Alice         HR   60000  2019-01-15   \n",
       "1      1           2      Bob         IT   70000  2019-06-20   \n",
       "2      2           3  Charlie         IT   80000  2018-07-23   \n",
       "3      3           4    David         HR   65000  2020-02-10   \n",
       "4      4           5      Eve    Finance   75000  2021-03-15   \n",
       "\n",
       "   PerformanceScore  YearsWithCompany  \n",
       "0                 3                 5  \n",
       "1                 4                 5  \n",
       "2                 2                 6  \n",
       "3                 5                 4  \n",
       "4                 3                 3  "
      ]
     },
     "execution_count": 22,
     "metadata": {},
     "output_type": "execute_result"
    }
   ],
   "source": [
    "# SQL solution\n",
    "conn.execute(text(f'''\n",
    "    ALTER TABLE {schema}.employees\n",
    "    ADD COLUMN \"YearsWithCompany\" INT;\n",
    "'''))\n",
    "conn.execute(text(f'''\n",
    "    UPDATE {schema}.employees\n",
    "    SET \"YearsWithCompany\" = DATE_PART('year', CURRENT_DATE) - DATE_PART('year', CAST(\"JoiningDate\" AS DATE))\n",
    "'''))\n",
    "pd.read_sql_query(f'SELECT * FROM {schema}.employees',conn)"
   ]
  },
  {
   "cell_type": "code",
   "execution_count": 23,
   "metadata": {},
   "outputs": [
    {
     "name": "stdout",
     "output_type": "stream",
     "text": [
      "+----------+-------+----------+------+-----------+----------------+----------------+\n",
      "|EmployeeID|   Name|Department|Salary|JoiningDate|PerformanceScore|YearsWithCompany|\n",
      "+----------+-------+----------+------+-----------+----------------+----------------+\n",
      "|         1|  Alice|        HR| 60000| 2019-01-15|               3|               5|\n",
      "|         2|    Bob|        IT| 70000| 2019-06-20|               4|               5|\n",
      "|         3|Charlie|        IT| 80000| 2018-07-23|               2|               6|\n",
      "|         4|  David|        HR| 65000| 2020-02-10|               5|               4|\n",
      "|         5|    Eve|   Finance| 75000| 2021-03-15|               3|               3|\n",
      "+----------+-------+----------+------+-----------+----------------+----------------+\n",
      "\n"
     ]
    }
   ],
   "source": [
    "# PySpark solution\n",
    "employees_ps = employees_ps.withColumn(\"YearsWithCompany\", F.floor(F.datediff(F.current_date(), F.to_date(F.col(\"JoiningDate\"))) / 365))\n",
    "employees_ps.show()"
   ]
  },
  {
   "cell_type": "markdown",
   "metadata": {},
   "source": [
    "**Q4: Create a pivot table to display the total salary and average performance score for each department.**"
   ]
  },
  {
   "cell_type": "code",
   "execution_count": 24,
   "metadata": {},
   "outputs": [
    {
     "data": {
      "text/html": [
       "<div>\n",
       "<style scoped>\n",
       "    .dataframe tbody tr th:only-of-type {\n",
       "        vertical-align: middle;\n",
       "    }\n",
       "\n",
       "    .dataframe tbody tr th {\n",
       "        vertical-align: top;\n",
       "    }\n",
       "\n",
       "    .dataframe thead th {\n",
       "        text-align: right;\n",
       "    }\n",
       "</style>\n",
       "<table border=\"1\" class=\"dataframe\">\n",
       "  <thead>\n",
       "    <tr style=\"text-align: right;\">\n",
       "      <th></th>\n",
       "      <th>PerformanceScore</th>\n",
       "      <th>Salary</th>\n",
       "    </tr>\n",
       "    <tr>\n",
       "      <th>Department</th>\n",
       "      <th></th>\n",
       "      <th></th>\n",
       "    </tr>\n",
       "  </thead>\n",
       "  <tbody>\n",
       "    <tr>\n",
       "      <th>Finance</th>\n",
       "      <td>3.0</td>\n",
       "      <td>75000</td>\n",
       "    </tr>\n",
       "    <tr>\n",
       "      <th>HR</th>\n",
       "      <td>4.0</td>\n",
       "      <td>125000</td>\n",
       "    </tr>\n",
       "    <tr>\n",
       "      <th>IT</th>\n",
       "      <td>3.0</td>\n",
       "      <td>150000</td>\n",
       "    </tr>\n",
       "  </tbody>\n",
       "</table>\n",
       "</div>"
      ],
      "text/plain": [
       "            PerformanceScore  Salary\n",
       "Department                          \n",
       "Finance                  3.0   75000\n",
       "HR                       4.0  125000\n",
       "IT                       3.0  150000"
      ]
     },
     "execution_count": 24,
     "metadata": {},
     "output_type": "execute_result"
    }
   ],
   "source": [
    "# Pandas solution\n",
    "pivot_table = pd.pivot_table(employees_pd, values=['Salary','PerformanceScore'], index='Department', aggfunc={'Salary':'sum','PerformanceScore':'mean'})\n",
    "pivot_table"
   ]
  },
  {
   "cell_type": "code",
   "execution_count": 25,
   "metadata": {},
   "outputs": [
    {
     "data": {
      "text/html": [
       "<div>\n",
       "<style scoped>\n",
       "    .dataframe tbody tr th:only-of-type {\n",
       "        vertical-align: middle;\n",
       "    }\n",
       "\n",
       "    .dataframe tbody tr th {\n",
       "        vertical-align: top;\n",
       "    }\n",
       "\n",
       "    .dataframe thead th {\n",
       "        text-align: right;\n",
       "    }\n",
       "</style>\n",
       "<table border=\"1\" class=\"dataframe\">\n",
       "  <thead>\n",
       "    <tr style=\"text-align: right;\">\n",
       "      <th></th>\n",
       "      <th>Department</th>\n",
       "      <th>PerformanceScore</th>\n",
       "      <th>Salary</th>\n",
       "    </tr>\n",
       "  </thead>\n",
       "  <tbody>\n",
       "    <tr>\n",
       "      <th>0</th>\n",
       "      <td>Finance</td>\n",
       "      <td>3.0</td>\n",
       "      <td>75000.0</td>\n",
       "    </tr>\n",
       "    <tr>\n",
       "      <th>1</th>\n",
       "      <td>IT</td>\n",
       "      <td>3.0</td>\n",
       "      <td>150000.0</td>\n",
       "    </tr>\n",
       "    <tr>\n",
       "      <th>2</th>\n",
       "      <td>HR</td>\n",
       "      <td>4.0</td>\n",
       "      <td>125000.0</td>\n",
       "    </tr>\n",
       "  </tbody>\n",
       "</table>\n",
       "</div>"
      ],
      "text/plain": [
       "  Department  PerformanceScore    Salary\n",
       "0    Finance               3.0   75000.0\n",
       "1         IT               3.0  150000.0\n",
       "2         HR               4.0  125000.0"
      ]
     },
     "execution_count": 25,
     "metadata": {},
     "output_type": "execute_result"
    }
   ],
   "source": [
    "# SQL Solution\n",
    "pd.read_sql_query(f'''\n",
    "    SELECT \"Department\", AVG(\"PerformanceScore\") AS \"PerformanceScore\", SUM(\"Salary\") AS \"Salary\"\n",
    "    FROM {schema}.employees\n",
    "    GROUP BY \"Department\"\n",
    "''',conn)"
   ]
  },
  {
   "cell_type": "code",
   "execution_count": 26,
   "metadata": {},
   "outputs": [
    {
     "name": "stdout",
     "output_type": "stream",
     "text": [
      "+----------+----------------+------+\n",
      "|Department|PerformanceScore|Salary|\n",
      "+----------+----------------+------+\n",
      "|        HR|             4.0|125000|\n",
      "|        IT|             3.0|150000|\n",
      "|   Finance|             3.0| 75000|\n",
      "+----------+----------------+------+\n",
      "\n"
     ]
    }
   ],
   "source": [
    "# PySpark solution\n",
    "employees_ps.groupBy('Department').agg(F.avg(\"PerformanceScore\").alias(\"PerformanceScore\"),F.sum(\"Salary\").alias(\"Salary\")).show()"
   ]
  },
  {
   "cell_type": "markdown",
   "metadata": {},
   "source": [
    "**Q5: Create a new DataFrame containing only the employees from the IT department who have a performance score greater than 3.**"
   ]
  },
  {
   "cell_type": "code",
   "execution_count": 27,
   "metadata": {},
   "outputs": [
    {
     "data": {
      "text/html": [
       "<div>\n",
       "<style scoped>\n",
       "    .dataframe tbody tr th:only-of-type {\n",
       "        vertical-align: middle;\n",
       "    }\n",
       "\n",
       "    .dataframe tbody tr th {\n",
       "        vertical-align: top;\n",
       "    }\n",
       "\n",
       "    .dataframe thead th {\n",
       "        text-align: right;\n",
       "    }\n",
       "</style>\n",
       "<table border=\"1\" class=\"dataframe\">\n",
       "  <thead>\n",
       "    <tr style=\"text-align: right;\">\n",
       "      <th></th>\n",
       "      <th>EmployeeID</th>\n",
       "      <th>Name</th>\n",
       "      <th>Department</th>\n",
       "      <th>Salary</th>\n",
       "      <th>JoiningDate</th>\n",
       "      <th>PerformanceScore</th>\n",
       "      <th>YearsWithCompany</th>\n",
       "    </tr>\n",
       "  </thead>\n",
       "  <tbody>\n",
       "    <tr>\n",
       "      <th>1</th>\n",
       "      <td>2</td>\n",
       "      <td>Bob</td>\n",
       "      <td>IT</td>\n",
       "      <td>70000</td>\n",
       "      <td>2019-06-20</td>\n",
       "      <td>4</td>\n",
       "      <td>5</td>\n",
       "    </tr>\n",
       "  </tbody>\n",
       "</table>\n",
       "</div>"
      ],
      "text/plain": [
       "   EmployeeID Name Department  Salary JoiningDate  PerformanceScore  \\\n",
       "1           2  Bob         IT   70000  2019-06-20                 4   \n",
       "\n",
       "   YearsWithCompany  \n",
       "1                 5  "
      ]
     },
     "execution_count": 27,
     "metadata": {},
     "output_type": "execute_result"
    }
   ],
   "source": [
    "# Pandas solution\n",
    "IT_high_performance = employees_pd[(employees_pd['Department']=='IT') & (employees_pd['PerformanceScore'] > 3)]\n",
    "IT_high_performance"
   ]
  },
  {
   "cell_type": "code",
   "execution_count": 28,
   "metadata": {},
   "outputs": [
    {
     "data": {
      "text/html": [
       "<div>\n",
       "<style scoped>\n",
       "    .dataframe tbody tr th:only-of-type {\n",
       "        vertical-align: middle;\n",
       "    }\n",
       "\n",
       "    .dataframe tbody tr th {\n",
       "        vertical-align: top;\n",
       "    }\n",
       "\n",
       "    .dataframe thead th {\n",
       "        text-align: right;\n",
       "    }\n",
       "</style>\n",
       "<table border=\"1\" class=\"dataframe\">\n",
       "  <thead>\n",
       "    <tr style=\"text-align: right;\">\n",
       "      <th></th>\n",
       "      <th>index</th>\n",
       "      <th>EmployeeID</th>\n",
       "      <th>Name</th>\n",
       "      <th>Department</th>\n",
       "      <th>Salary</th>\n",
       "      <th>JoiningDate</th>\n",
       "      <th>PerformanceScore</th>\n",
       "      <th>YearsWithCompany</th>\n",
       "    </tr>\n",
       "  </thead>\n",
       "  <tbody>\n",
       "    <tr>\n",
       "      <th>0</th>\n",
       "      <td>1</td>\n",
       "      <td>2</td>\n",
       "      <td>Bob</td>\n",
       "      <td>IT</td>\n",
       "      <td>70000</td>\n",
       "      <td>2019-06-20</td>\n",
       "      <td>4</td>\n",
       "      <td>5</td>\n",
       "    </tr>\n",
       "  </tbody>\n",
       "</table>\n",
       "</div>"
      ],
      "text/plain": [
       "   index  EmployeeID Name Department  Salary JoiningDate  PerformanceScore  \\\n",
       "0      1           2  Bob         IT   70000  2019-06-20                 4   \n",
       "\n",
       "   YearsWithCompany  \n",
       "0                 5  "
      ]
     },
     "execution_count": 28,
     "metadata": {},
     "output_type": "execute_result"
    }
   ],
   "source": [
    "# SQL solution\n",
    "conn.execute(text(f'''\n",
    "    DROP TABLE IF EXISTS {schema}.it_high_performance;\n",
    "    CREATE TABLE {schema}.it_high_performance AS\n",
    "    SELECT *\n",
    "    FROM {schema}.employees\n",
    "    WHERE \"Department\"='IT' AND \"PerformanceScore\" > 3;\n",
    "'''))\n",
    "pd.read_sql_query(f\"SELECT * FROM {schema}.it_high_performance\", conn)"
   ]
  },
  {
   "cell_type": "code",
   "execution_count": 29,
   "metadata": {},
   "outputs": [
    {
     "name": "stdout",
     "output_type": "stream",
     "text": [
      "+----------+----+----------+------+-----------+----------------+----------------+\n",
      "|EmployeeID|Name|Department|Salary|JoiningDate|PerformanceScore|YearsWithCompany|\n",
      "+----------+----+----------+------+-----------+----------------+----------------+\n",
      "|         2| Bob|        IT| 70000| 2019-06-20|               4|               5|\n",
      "+----------+----+----------+------+-----------+----------------+----------------+\n",
      "\n"
     ]
    }
   ],
   "source": [
    "# PySpark solution\n",
    "IT_high_performance_ps = employees_ps.filter('Department==\"IT\" AND PerformanceScore > 3')\n",
    "IT_high_performance_ps.show()"
   ]
  },
  {
   "cell_type": "markdown",
   "metadata": {},
   "source": [
    "**Q6: Perform an merge of the employees data with the bonuses data based on EmployeeID and keep only the employees that exist in the employees data. Impute the missing values appropriately.**"
   ]
  },
  {
   "cell_type": "code",
   "execution_count": 30,
   "metadata": {},
   "outputs": [
    {
     "data": {
      "text/html": [
       "<div>\n",
       "<style scoped>\n",
       "    .dataframe tbody tr th:only-of-type {\n",
       "        vertical-align: middle;\n",
       "    }\n",
       "\n",
       "    .dataframe tbody tr th {\n",
       "        vertical-align: top;\n",
       "    }\n",
       "\n",
       "    .dataframe thead th {\n",
       "        text-align: right;\n",
       "    }\n",
       "</style>\n",
       "<table border=\"1\" class=\"dataframe\">\n",
       "  <thead>\n",
       "    <tr style=\"text-align: right;\">\n",
       "      <th></th>\n",
       "      <th>EmployeeID</th>\n",
       "      <th>Name</th>\n",
       "      <th>Department</th>\n",
       "      <th>Salary</th>\n",
       "      <th>JoiningDate</th>\n",
       "      <th>PerformanceScore</th>\n",
       "      <th>YearsWithCompany</th>\n",
       "      <th>Bonus</th>\n",
       "    </tr>\n",
       "  </thead>\n",
       "  <tbody>\n",
       "    <tr>\n",
       "      <th>0</th>\n",
       "      <td>1</td>\n",
       "      <td>Alice</td>\n",
       "      <td>HR</td>\n",
       "      <td>60000</td>\n",
       "      <td>2019-01-15</td>\n",
       "      <td>3</td>\n",
       "      <td>5</td>\n",
       "      <td>5000.0</td>\n",
       "    </tr>\n",
       "    <tr>\n",
       "      <th>1</th>\n",
       "      <td>2</td>\n",
       "      <td>Bob</td>\n",
       "      <td>IT</td>\n",
       "      <td>70000</td>\n",
       "      <td>2019-06-20</td>\n",
       "      <td>4</td>\n",
       "      <td>5</td>\n",
       "      <td>7000.0</td>\n",
       "    </tr>\n",
       "    <tr>\n",
       "      <th>2</th>\n",
       "      <td>3</td>\n",
       "      <td>Charlie</td>\n",
       "      <td>IT</td>\n",
       "      <td>80000</td>\n",
       "      <td>2018-07-23</td>\n",
       "      <td>2</td>\n",
       "      <td>6</td>\n",
       "      <td>8000.0</td>\n",
       "    </tr>\n",
       "    <tr>\n",
       "      <th>3</th>\n",
       "      <td>4</td>\n",
       "      <td>David</td>\n",
       "      <td>HR</td>\n",
       "      <td>65000</td>\n",
       "      <td>2020-02-10</td>\n",
       "      <td>5</td>\n",
       "      <td>4</td>\n",
       "      <td>0.0</td>\n",
       "    </tr>\n",
       "    <tr>\n",
       "      <th>4</th>\n",
       "      <td>5</td>\n",
       "      <td>Eve</td>\n",
       "      <td>Finance</td>\n",
       "      <td>75000</td>\n",
       "      <td>2021-03-15</td>\n",
       "      <td>3</td>\n",
       "      <td>3</td>\n",
       "      <td>0.0</td>\n",
       "    </tr>\n",
       "  </tbody>\n",
       "</table>\n",
       "</div>"
      ],
      "text/plain": [
       "   EmployeeID     Name Department  Salary JoiningDate  PerformanceScore  \\\n",
       "0           1    Alice         HR   60000  2019-01-15                 3   \n",
       "1           2      Bob         IT   70000  2019-06-20                 4   \n",
       "2           3  Charlie         IT   80000  2018-07-23                 2   \n",
       "3           4    David         HR   65000  2020-02-10                 5   \n",
       "4           5      Eve    Finance   75000  2021-03-15                 3   \n",
       "\n",
       "   YearsWithCompany   Bonus  \n",
       "0                 5  5000.0  \n",
       "1                 5  7000.0  \n",
       "2                 6  8000.0  \n",
       "3                 4     0.0  \n",
       "4                 3     0.0  "
      ]
     },
     "execution_count": 30,
     "metadata": {},
     "output_type": "execute_result"
    }
   ],
   "source": [
    "# Pandas solution\n",
    "merged_pd = employees_pd.merge(bonuses_pd,on='EmployeeID',how='left')\n",
    "merged_pd = merged_pd.fillna(0)\n",
    "merged_pd"
   ]
  },
  {
   "cell_type": "code",
   "execution_count": 31,
   "metadata": {},
   "outputs": [
    {
     "data": {
      "text/html": [
       "<div>\n",
       "<style scoped>\n",
       "    .dataframe tbody tr th:only-of-type {\n",
       "        vertical-align: middle;\n",
       "    }\n",
       "\n",
       "    .dataframe tbody tr th {\n",
       "        vertical-align: top;\n",
       "    }\n",
       "\n",
       "    .dataframe thead th {\n",
       "        text-align: right;\n",
       "    }\n",
       "</style>\n",
       "<table border=\"1\" class=\"dataframe\">\n",
       "  <thead>\n",
       "    <tr style=\"text-align: right;\">\n",
       "      <th></th>\n",
       "      <th>EmployeeID</th>\n",
       "      <th>Name</th>\n",
       "      <th>Department</th>\n",
       "      <th>Salary</th>\n",
       "      <th>JoiningDate</th>\n",
       "      <th>PerformanceScore</th>\n",
       "      <th>YearsWithCompany</th>\n",
       "      <th>Bonus</th>\n",
       "    </tr>\n",
       "  </thead>\n",
       "  <tbody>\n",
       "    <tr>\n",
       "      <th>0</th>\n",
       "      <td>1</td>\n",
       "      <td>Alice</td>\n",
       "      <td>HR</td>\n",
       "      <td>60000</td>\n",
       "      <td>2019-01-15</td>\n",
       "      <td>3</td>\n",
       "      <td>5</td>\n",
       "      <td>5000</td>\n",
       "    </tr>\n",
       "    <tr>\n",
       "      <th>1</th>\n",
       "      <td>2</td>\n",
       "      <td>Bob</td>\n",
       "      <td>IT</td>\n",
       "      <td>70000</td>\n",
       "      <td>2019-06-20</td>\n",
       "      <td>4</td>\n",
       "      <td>5</td>\n",
       "      <td>7000</td>\n",
       "    </tr>\n",
       "    <tr>\n",
       "      <th>2</th>\n",
       "      <td>3</td>\n",
       "      <td>Charlie</td>\n",
       "      <td>IT</td>\n",
       "      <td>80000</td>\n",
       "      <td>2018-07-23</td>\n",
       "      <td>2</td>\n",
       "      <td>6</td>\n",
       "      <td>8000</td>\n",
       "    </tr>\n",
       "    <tr>\n",
       "      <th>3</th>\n",
       "      <td>5</td>\n",
       "      <td>Eve</td>\n",
       "      <td>Finance</td>\n",
       "      <td>75000</td>\n",
       "      <td>2021-03-15</td>\n",
       "      <td>3</td>\n",
       "      <td>3</td>\n",
       "      <td>0</td>\n",
       "    </tr>\n",
       "    <tr>\n",
       "      <th>4</th>\n",
       "      <td>4</td>\n",
       "      <td>David</td>\n",
       "      <td>HR</td>\n",
       "      <td>65000</td>\n",
       "      <td>2020-02-10</td>\n",
       "      <td>5</td>\n",
       "      <td>4</td>\n",
       "      <td>0</td>\n",
       "    </tr>\n",
       "  </tbody>\n",
       "</table>\n",
       "</div>"
      ],
      "text/plain": [
       "   EmployeeID     Name Department  Salary JoiningDate  PerformanceScore  \\\n",
       "0           1    Alice         HR   60000  2019-01-15                 3   \n",
       "1           2      Bob         IT   70000  2019-06-20                 4   \n",
       "2           3  Charlie         IT   80000  2018-07-23                 2   \n",
       "3           5      Eve    Finance   75000  2021-03-15                 3   \n",
       "4           4    David         HR   65000  2020-02-10                 5   \n",
       "\n",
       "   YearsWithCompany  Bonus  \n",
       "0                 5   5000  \n",
       "1                 5   7000  \n",
       "2                 6   8000  \n",
       "3                 3      0  \n",
       "4                 4      0  "
      ]
     },
     "execution_count": 31,
     "metadata": {},
     "output_type": "execute_result"
    }
   ],
   "source": [
    "# SQL solution\n",
    "pd.read_sql_query(f'''\n",
    "    SELECT \"EmployeeID\",\"Name\",\"Department\",\"Salary\",\"JoiningDate\",\"PerformanceScore\",\"YearsWithCompany\",COALESCE(\"Bonus\",0) AS \"Bonus\"\n",
    "    FROM {schema}.employees LEFT JOIN {schema}.bonuses USING(\"EmployeeID\")\n",
    "''',conn)"
   ]
  },
  {
   "cell_type": "code",
   "execution_count": 32,
   "metadata": {},
   "outputs": [
    {
     "name": "stdout",
     "output_type": "stream",
     "text": [
      "+----------+-------+----------+------+-----------+----------------+----------------+-----+\n",
      "|EmployeeID|   Name|Department|Salary|JoiningDate|PerformanceScore|YearsWithCompany|Bonus|\n",
      "+----------+-------+----------+------+-----------+----------------+----------------+-----+\n",
      "|         1|  Alice|        HR| 60000| 2019-01-15|               3|               5| 5000|\n",
      "|         2|    Bob|        IT| 70000| 2019-06-20|               4|               5| 7000|\n",
      "|         3|Charlie|        IT| 80000| 2018-07-23|               2|               6| 8000|\n",
      "|         4|  David|        HR| 65000| 2020-02-10|               5|               4|    0|\n",
      "|         5|    Eve|   Finance| 75000| 2021-03-15|               3|               3|    0|\n",
      "+----------+-------+----------+------+-----------+----------------+----------------+-----+\n",
      "\n"
     ]
    }
   ],
   "source": [
    "# PySpark solution\n",
    "merged_ps = employees_ps.join(bonuses_ps, employees_ps.EmployeeID == bonuses_ps.EmployeeID, 'left').drop(bonuses_ps.EmployeeID)\n",
    "merged_ps = merged_ps.na.fill({'Bonus' : 0})\n",
    "merged_ps.show()"
   ]
  },
  {
   "cell_type": "markdown",
   "metadata": {},
   "source": [
    "**Q7: Calculate the cumulative sum of the Salary column grouped by Department, ordered by joining date.**"
   ]
  },
  {
   "cell_type": "code",
   "execution_count": 33,
   "metadata": {},
   "outputs": [
    {
     "data": {
      "text/html": [
       "<div>\n",
       "<style scoped>\n",
       "    .dataframe tbody tr th:only-of-type {\n",
       "        vertical-align: middle;\n",
       "    }\n",
       "\n",
       "    .dataframe tbody tr th {\n",
       "        vertical-align: top;\n",
       "    }\n",
       "\n",
       "    .dataframe thead th {\n",
       "        text-align: right;\n",
       "    }\n",
       "</style>\n",
       "<table border=\"1\" class=\"dataframe\">\n",
       "  <thead>\n",
       "    <tr style=\"text-align: right;\">\n",
       "      <th></th>\n",
       "      <th>EmployeeID</th>\n",
       "      <th>Name</th>\n",
       "      <th>Department</th>\n",
       "      <th>Salary</th>\n",
       "      <th>JoiningDate</th>\n",
       "      <th>PerformanceScore</th>\n",
       "      <th>YearsWithCompany</th>\n",
       "      <th>CumSalary</th>\n",
       "    </tr>\n",
       "  </thead>\n",
       "  <tbody>\n",
       "    <tr>\n",
       "      <th>2</th>\n",
       "      <td>3</td>\n",
       "      <td>Charlie</td>\n",
       "      <td>IT</td>\n",
       "      <td>80000</td>\n",
       "      <td>2018-07-23</td>\n",
       "      <td>2</td>\n",
       "      <td>6</td>\n",
       "      <td>80000</td>\n",
       "    </tr>\n",
       "    <tr>\n",
       "      <th>0</th>\n",
       "      <td>1</td>\n",
       "      <td>Alice</td>\n",
       "      <td>HR</td>\n",
       "      <td>60000</td>\n",
       "      <td>2019-01-15</td>\n",
       "      <td>3</td>\n",
       "      <td>5</td>\n",
       "      <td>60000</td>\n",
       "    </tr>\n",
       "    <tr>\n",
       "      <th>1</th>\n",
       "      <td>2</td>\n",
       "      <td>Bob</td>\n",
       "      <td>IT</td>\n",
       "      <td>70000</td>\n",
       "      <td>2019-06-20</td>\n",
       "      <td>4</td>\n",
       "      <td>5</td>\n",
       "      <td>150000</td>\n",
       "    </tr>\n",
       "    <tr>\n",
       "      <th>3</th>\n",
       "      <td>4</td>\n",
       "      <td>David</td>\n",
       "      <td>HR</td>\n",
       "      <td>65000</td>\n",
       "      <td>2020-02-10</td>\n",
       "      <td>5</td>\n",
       "      <td>4</td>\n",
       "      <td>125000</td>\n",
       "    </tr>\n",
       "    <tr>\n",
       "      <th>4</th>\n",
       "      <td>5</td>\n",
       "      <td>Eve</td>\n",
       "      <td>Finance</td>\n",
       "      <td>75000</td>\n",
       "      <td>2021-03-15</td>\n",
       "      <td>3</td>\n",
       "      <td>3</td>\n",
       "      <td>75000</td>\n",
       "    </tr>\n",
       "  </tbody>\n",
       "</table>\n",
       "</div>"
      ],
      "text/plain": [
       "   EmployeeID     Name Department  Salary JoiningDate  PerformanceScore  \\\n",
       "2           3  Charlie         IT   80000  2018-07-23                 2   \n",
       "0           1    Alice         HR   60000  2019-01-15                 3   \n",
       "1           2      Bob         IT   70000  2019-06-20                 4   \n",
       "3           4    David         HR   65000  2020-02-10                 5   \n",
       "4           5      Eve    Finance   75000  2021-03-15                 3   \n",
       "\n",
       "   YearsWithCompany  CumSalary  \n",
       "2                 6      80000  \n",
       "0                 5      60000  \n",
       "1                 5     150000  \n",
       "3                 4     125000  \n",
       "4                 3      75000  "
      ]
     },
     "execution_count": 33,
     "metadata": {},
     "output_type": "execute_result"
    }
   ],
   "source": [
    "# Pandas solution\n",
    "employees_pd = employees_pd.sort_values('JoiningDate')\n",
    "employees_pd['CumSalary'] = employees_pd.groupby('Department')['Salary'].cumsum()\n",
    "employees_pd\n"
   ]
  },
  {
   "cell_type": "code",
   "execution_count": 34,
   "metadata": {},
   "outputs": [
    {
     "data": {
      "text/html": [
       "<div>\n",
       "<style scoped>\n",
       "    .dataframe tbody tr th:only-of-type {\n",
       "        vertical-align: middle;\n",
       "    }\n",
       "\n",
       "    .dataframe tbody tr th {\n",
       "        vertical-align: top;\n",
       "    }\n",
       "\n",
       "    .dataframe thead th {\n",
       "        text-align: right;\n",
       "    }\n",
       "</style>\n",
       "<table border=\"1\" class=\"dataframe\">\n",
       "  <thead>\n",
       "    <tr style=\"text-align: right;\">\n",
       "      <th></th>\n",
       "      <th>index</th>\n",
       "      <th>EmployeeID</th>\n",
       "      <th>Name</th>\n",
       "      <th>Department</th>\n",
       "      <th>Salary</th>\n",
       "      <th>JoiningDate</th>\n",
       "      <th>PerformanceScore</th>\n",
       "      <th>YearsWithCompany</th>\n",
       "      <th>CumSalary</th>\n",
       "    </tr>\n",
       "  </thead>\n",
       "  <tbody>\n",
       "    <tr>\n",
       "      <th>0</th>\n",
       "      <td>2</td>\n",
       "      <td>3</td>\n",
       "      <td>Charlie</td>\n",
       "      <td>IT</td>\n",
       "      <td>80000</td>\n",
       "      <td>2018-07-23</td>\n",
       "      <td>2</td>\n",
       "      <td>6</td>\n",
       "      <td>80000.0</td>\n",
       "    </tr>\n",
       "    <tr>\n",
       "      <th>1</th>\n",
       "      <td>0</td>\n",
       "      <td>1</td>\n",
       "      <td>Alice</td>\n",
       "      <td>HR</td>\n",
       "      <td>60000</td>\n",
       "      <td>2019-01-15</td>\n",
       "      <td>3</td>\n",
       "      <td>5</td>\n",
       "      <td>60000.0</td>\n",
       "    </tr>\n",
       "    <tr>\n",
       "      <th>2</th>\n",
       "      <td>1</td>\n",
       "      <td>2</td>\n",
       "      <td>Bob</td>\n",
       "      <td>IT</td>\n",
       "      <td>70000</td>\n",
       "      <td>2019-06-20</td>\n",
       "      <td>4</td>\n",
       "      <td>5</td>\n",
       "      <td>150000.0</td>\n",
       "    </tr>\n",
       "    <tr>\n",
       "      <th>3</th>\n",
       "      <td>3</td>\n",
       "      <td>4</td>\n",
       "      <td>David</td>\n",
       "      <td>HR</td>\n",
       "      <td>65000</td>\n",
       "      <td>2020-02-10</td>\n",
       "      <td>5</td>\n",
       "      <td>4</td>\n",
       "      <td>125000.0</td>\n",
       "    </tr>\n",
       "    <tr>\n",
       "      <th>4</th>\n",
       "      <td>4</td>\n",
       "      <td>5</td>\n",
       "      <td>Eve</td>\n",
       "      <td>Finance</td>\n",
       "      <td>75000</td>\n",
       "      <td>2021-03-15</td>\n",
       "      <td>3</td>\n",
       "      <td>3</td>\n",
       "      <td>75000.0</td>\n",
       "    </tr>\n",
       "  </tbody>\n",
       "</table>\n",
       "</div>"
      ],
      "text/plain": [
       "   index  EmployeeID     Name Department  Salary JoiningDate  \\\n",
       "0      2           3  Charlie         IT   80000  2018-07-23   \n",
       "1      0           1    Alice         HR   60000  2019-01-15   \n",
       "2      1           2      Bob         IT   70000  2019-06-20   \n",
       "3      3           4    David         HR   65000  2020-02-10   \n",
       "4      4           5      Eve    Finance   75000  2021-03-15   \n",
       "\n",
       "   PerformanceScore  YearsWithCompany  CumSalary  \n",
       "0                 2                 6    80000.0  \n",
       "1                 3                 5    60000.0  \n",
       "2                 4                 5   150000.0  \n",
       "3                 5                 4   125000.0  \n",
       "4                 3                 3    75000.0  "
      ]
     },
     "execution_count": 34,
     "metadata": {},
     "output_type": "execute_result"
    }
   ],
   "source": [
    "# SQL solution\n",
    "pd.read_sql_query(f'''\n",
    "    SELECT *, SUM(\"Salary\") OVER(PARTITION BY \"Department\" ORDER BY \"JoiningDate\" ROWS BETWEEN UNBOUNDED PRECEDING AND CURRENT ROW) AS \"CumSalary\"\n",
    "    FROM {schema}.employees\n",
    "    ORDER BY \"JoiningDate\"\n",
    "''',conn)"
   ]
  },
  {
   "cell_type": "code",
   "execution_count": 35,
   "metadata": {},
   "outputs": [
    {
     "name": "stdout",
     "output_type": "stream",
     "text": [
      "+----------+-------+----------+------+-----------+----------------+----------------+---------+\n",
      "|EmployeeID|   Name|Department|Salary|JoiningDate|PerformanceScore|YearsWithCompany|CumSalary|\n",
      "+----------+-------+----------+------+-----------+----------------+----------------+---------+\n",
      "|         3|Charlie|        IT| 80000| 2018-07-23|               2|               6|    80000|\n",
      "|         1|  Alice|        HR| 60000| 2019-01-15|               3|               5|    60000|\n",
      "|         2|    Bob|        IT| 70000| 2019-06-20|               4|               5|   150000|\n",
      "|         4|  David|        HR| 65000| 2020-02-10|               5|               4|   125000|\n",
      "|         5|    Eve|   Finance| 75000| 2021-03-15|               3|               3|    75000|\n",
      "+----------+-------+----------+------+-----------+----------------+----------------+---------+\n",
      "\n"
     ]
    }
   ],
   "source": [
    "# PySpark solution\n",
    "windowspec2 = (Window.partitionBy('Department').orderBy('JoiningDate')\n",
    "             .rangeBetween(Window.unboundedPreceding, 0))\n",
    "employees_ps = employees_ps.withColumn('CumSalary',F.sum('Salary').over(windowspec2))\n",
    "employees_ps.orderBy('JoiningDate').show()"
   ]
  },
  {
   "cell_type": "markdown",
   "metadata": {},
   "source": [
    "**Q8: Rank the employees within each department based on their Salary.**"
   ]
  },
  {
   "cell_type": "code",
   "execution_count": 36,
   "metadata": {},
   "outputs": [
    {
     "data": {
      "text/html": [
       "<div>\n",
       "<style scoped>\n",
       "    .dataframe tbody tr th:only-of-type {\n",
       "        vertical-align: middle;\n",
       "    }\n",
       "\n",
       "    .dataframe tbody tr th {\n",
       "        vertical-align: top;\n",
       "    }\n",
       "\n",
       "    .dataframe thead th {\n",
       "        text-align: right;\n",
       "    }\n",
       "</style>\n",
       "<table border=\"1\" class=\"dataframe\">\n",
       "  <thead>\n",
       "    <tr style=\"text-align: right;\">\n",
       "      <th></th>\n",
       "      <th>EmployeeID</th>\n",
       "      <th>Name</th>\n",
       "      <th>Department</th>\n",
       "      <th>Salary</th>\n",
       "      <th>JoiningDate</th>\n",
       "      <th>PerformanceScore</th>\n",
       "      <th>YearsWithCompany</th>\n",
       "      <th>CumSalary</th>\n",
       "      <th>SalaryRank</th>\n",
       "    </tr>\n",
       "  </thead>\n",
       "  <tbody>\n",
       "    <tr>\n",
       "      <th>0</th>\n",
       "      <td>1</td>\n",
       "      <td>Alice</td>\n",
       "      <td>HR</td>\n",
       "      <td>60000</td>\n",
       "      <td>2019-01-15</td>\n",
       "      <td>3</td>\n",
       "      <td>5</td>\n",
       "      <td>60000</td>\n",
       "      <td>2.0</td>\n",
       "    </tr>\n",
       "    <tr>\n",
       "      <th>1</th>\n",
       "      <td>2</td>\n",
       "      <td>Bob</td>\n",
       "      <td>IT</td>\n",
       "      <td>70000</td>\n",
       "      <td>2019-06-20</td>\n",
       "      <td>4</td>\n",
       "      <td>5</td>\n",
       "      <td>150000</td>\n",
       "      <td>2.0</td>\n",
       "    </tr>\n",
       "    <tr>\n",
       "      <th>2</th>\n",
       "      <td>3</td>\n",
       "      <td>Charlie</td>\n",
       "      <td>IT</td>\n",
       "      <td>80000</td>\n",
       "      <td>2018-07-23</td>\n",
       "      <td>2</td>\n",
       "      <td>6</td>\n",
       "      <td>80000</td>\n",
       "      <td>1.0</td>\n",
       "    </tr>\n",
       "    <tr>\n",
       "      <th>3</th>\n",
       "      <td>4</td>\n",
       "      <td>David</td>\n",
       "      <td>HR</td>\n",
       "      <td>65000</td>\n",
       "      <td>2020-02-10</td>\n",
       "      <td>5</td>\n",
       "      <td>4</td>\n",
       "      <td>125000</td>\n",
       "      <td>1.0</td>\n",
       "    </tr>\n",
       "    <tr>\n",
       "      <th>4</th>\n",
       "      <td>5</td>\n",
       "      <td>Eve</td>\n",
       "      <td>Finance</td>\n",
       "      <td>75000</td>\n",
       "      <td>2021-03-15</td>\n",
       "      <td>3</td>\n",
       "      <td>3</td>\n",
       "      <td>75000</td>\n",
       "      <td>1.0</td>\n",
       "    </tr>\n",
       "  </tbody>\n",
       "</table>\n",
       "</div>"
      ],
      "text/plain": [
       "   EmployeeID     Name Department  Salary JoiningDate  PerformanceScore  \\\n",
       "0           1    Alice         HR   60000  2019-01-15                 3   \n",
       "1           2      Bob         IT   70000  2019-06-20                 4   \n",
       "2           3  Charlie         IT   80000  2018-07-23                 2   \n",
       "3           4    David         HR   65000  2020-02-10                 5   \n",
       "4           5      Eve    Finance   75000  2021-03-15                 3   \n",
       "\n",
       "   YearsWithCompany  CumSalary  SalaryRank  \n",
       "0                 5      60000         2.0  \n",
       "1                 5     150000         2.0  \n",
       "2                 6      80000         1.0  \n",
       "3                 4     125000         1.0  \n",
       "4                 3      75000         1.0  "
      ]
     },
     "execution_count": 36,
     "metadata": {},
     "output_type": "execute_result"
    }
   ],
   "source": [
    "# Pandas solution\n",
    "employees_pd['SalaryRank'] = employees_pd.groupby('Department')['Salary'].rank(ascending=False)\n",
    "employees_pd = employees_pd.sort_index()\n",
    "employees_pd"
   ]
  },
  {
   "cell_type": "code",
   "execution_count": 37,
   "metadata": {},
   "outputs": [
    {
     "data": {
      "text/html": [
       "<div>\n",
       "<style scoped>\n",
       "    .dataframe tbody tr th:only-of-type {\n",
       "        vertical-align: middle;\n",
       "    }\n",
       "\n",
       "    .dataframe tbody tr th {\n",
       "        vertical-align: top;\n",
       "    }\n",
       "\n",
       "    .dataframe thead th {\n",
       "        text-align: right;\n",
       "    }\n",
       "</style>\n",
       "<table border=\"1\" class=\"dataframe\">\n",
       "  <thead>\n",
       "    <tr style=\"text-align: right;\">\n",
       "      <th></th>\n",
       "      <th>index</th>\n",
       "      <th>EmployeeID</th>\n",
       "      <th>Name</th>\n",
       "      <th>Department</th>\n",
       "      <th>Salary</th>\n",
       "      <th>JoiningDate</th>\n",
       "      <th>PerformanceScore</th>\n",
       "      <th>YearsWithCompany</th>\n",
       "      <th>SalaryRank</th>\n",
       "    </tr>\n",
       "  </thead>\n",
       "  <tbody>\n",
       "    <tr>\n",
       "      <th>0</th>\n",
       "      <td>0</td>\n",
       "      <td>1</td>\n",
       "      <td>Alice</td>\n",
       "      <td>HR</td>\n",
       "      <td>60000</td>\n",
       "      <td>2019-01-15</td>\n",
       "      <td>3</td>\n",
       "      <td>5</td>\n",
       "      <td>2</td>\n",
       "    </tr>\n",
       "    <tr>\n",
       "      <th>1</th>\n",
       "      <td>1</td>\n",
       "      <td>2</td>\n",
       "      <td>Bob</td>\n",
       "      <td>IT</td>\n",
       "      <td>70000</td>\n",
       "      <td>2019-06-20</td>\n",
       "      <td>4</td>\n",
       "      <td>5</td>\n",
       "      <td>2</td>\n",
       "    </tr>\n",
       "    <tr>\n",
       "      <th>2</th>\n",
       "      <td>2</td>\n",
       "      <td>3</td>\n",
       "      <td>Charlie</td>\n",
       "      <td>IT</td>\n",
       "      <td>80000</td>\n",
       "      <td>2018-07-23</td>\n",
       "      <td>2</td>\n",
       "      <td>6</td>\n",
       "      <td>1</td>\n",
       "    </tr>\n",
       "    <tr>\n",
       "      <th>3</th>\n",
       "      <td>3</td>\n",
       "      <td>4</td>\n",
       "      <td>David</td>\n",
       "      <td>HR</td>\n",
       "      <td>65000</td>\n",
       "      <td>2020-02-10</td>\n",
       "      <td>5</td>\n",
       "      <td>4</td>\n",
       "      <td>1</td>\n",
       "    </tr>\n",
       "    <tr>\n",
       "      <th>4</th>\n",
       "      <td>4</td>\n",
       "      <td>5</td>\n",
       "      <td>Eve</td>\n",
       "      <td>Finance</td>\n",
       "      <td>75000</td>\n",
       "      <td>2021-03-15</td>\n",
       "      <td>3</td>\n",
       "      <td>3</td>\n",
       "      <td>1</td>\n",
       "    </tr>\n",
       "  </tbody>\n",
       "</table>\n",
       "</div>"
      ],
      "text/plain": [
       "   index  EmployeeID     Name Department  Salary JoiningDate  \\\n",
       "0      0           1    Alice         HR   60000  2019-01-15   \n",
       "1      1           2      Bob         IT   70000  2019-06-20   \n",
       "2      2           3  Charlie         IT   80000  2018-07-23   \n",
       "3      3           4    David         HR   65000  2020-02-10   \n",
       "4      4           5      Eve    Finance   75000  2021-03-15   \n",
       "\n",
       "   PerformanceScore  YearsWithCompany  SalaryRank  \n",
       "0                 3                 5           2  \n",
       "1                 4                 5           2  \n",
       "2                 2                 6           1  \n",
       "3                 5                 4           1  \n",
       "4                 3                 3           1  "
      ]
     },
     "execution_count": 37,
     "metadata": {},
     "output_type": "execute_result"
    }
   ],
   "source": [
    "# SQL solution\n",
    "pd.read_sql_query(f'''\n",
    "    SELECT *, RANK() OVER(PARTITION BY \"Department\" ORDER BY \"Salary\" DESC) AS \"SalaryRank\"\n",
    "    FROM {schema}.employees\n",
    "    ORDER BY index\n",
    "''',conn)"
   ]
  },
  {
   "cell_type": "code",
   "execution_count": 38,
   "metadata": {},
   "outputs": [
    {
     "name": "stdout",
     "output_type": "stream",
     "text": [
      "+----------+-------+----------+------+-----------+----------------+----------------+---------+----------+\n",
      "|EmployeeID|   Name|Department|Salary|JoiningDate|PerformanceScore|YearsWithCompany|CumSalary|SalaryRank|\n",
      "+----------+-------+----------+------+-----------+----------------+----------------+---------+----------+\n",
      "|         1|  Alice|        HR| 60000| 2019-01-15|               3|               5|    60000|         2|\n",
      "|         2|    Bob|        IT| 70000| 2019-06-20|               4|               5|   150000|         2|\n",
      "|         3|Charlie|        IT| 80000| 2018-07-23|               2|               6|    80000|         1|\n",
      "|         4|  David|        HR| 65000| 2020-02-10|               5|               4|   125000|         1|\n",
      "|         5|    Eve|   Finance| 75000| 2021-03-15|               3|               3|    75000|         1|\n",
      "+----------+-------+----------+------+-----------+----------------+----------------+---------+----------+\n",
      "\n"
     ]
    }
   ],
   "source": [
    "# PySpark solution\n",
    "windowspec3 = Window.partitionBy('Department').orderBy(F.desc('Salary'))\n",
    "employees_ps = employees_ps.withColumn('SalaryRank', F.rank().over(windowspec3))\n",
    "employees_ps.orderBy('EmployeeID').show()"
   ]
  },
  {
   "cell_type": "markdown",
   "metadata": {},
   "source": [
    "**Q9: Show the count of employees per department who have been with the company for more than 4 years. Include departments with no such employees. Order the result by descending order of count of employees meeting the criteria.**"
   ]
  },
  {
   "cell_type": "code",
   "execution_count": 39,
   "metadata": {},
   "outputs": [
    {
     "data": {
      "text/html": [
       "<div>\n",
       "<style scoped>\n",
       "    .dataframe tbody tr th:only-of-type {\n",
       "        vertical-align: middle;\n",
       "    }\n",
       "\n",
       "    .dataframe tbody tr th {\n",
       "        vertical-align: top;\n",
       "    }\n",
       "\n",
       "    .dataframe thead th {\n",
       "        text-align: right;\n",
       "    }\n",
       "</style>\n",
       "<table border=\"1\" class=\"dataframe\">\n",
       "  <thead>\n",
       "    <tr style=\"text-align: right;\">\n",
       "      <th></th>\n",
       "      <th>Department</th>\n",
       "      <th>Count</th>\n",
       "    </tr>\n",
       "  </thead>\n",
       "  <tbody>\n",
       "    <tr>\n",
       "      <th>2</th>\n",
       "      <td>IT</td>\n",
       "      <td>2</td>\n",
       "    </tr>\n",
       "    <tr>\n",
       "      <th>1</th>\n",
       "      <td>HR</td>\n",
       "      <td>1</td>\n",
       "    </tr>\n",
       "    <tr>\n",
       "      <th>0</th>\n",
       "      <td>Finance</td>\n",
       "      <td>0</td>\n",
       "    </tr>\n",
       "  </tbody>\n",
       "</table>\n",
       "</div>"
      ],
      "text/plain": [
       "  Department  Count\n",
       "2         IT      2\n",
       "1         HR      1\n",
       "0    Finance      0"
      ]
     },
     "execution_count": 39,
     "metadata": {},
     "output_type": "execute_result"
    }
   ],
   "source": [
    "# Pandas solution\n",
    "tenure_counts = employees_pd.groupby('Department')['YearsWithCompany'].apply(lambda num: (num > 4).sum()).reset_index(name='Count').sort_values('Count',ascending=False)\n",
    "tenure_counts"
   ]
  },
  {
   "cell_type": "code",
   "execution_count": 40,
   "metadata": {},
   "outputs": [
    {
     "data": {
      "text/html": [
       "<div>\n",
       "<style scoped>\n",
       "    .dataframe tbody tr th:only-of-type {\n",
       "        vertical-align: middle;\n",
       "    }\n",
       "\n",
       "    .dataframe tbody tr th {\n",
       "        vertical-align: top;\n",
       "    }\n",
       "\n",
       "    .dataframe thead th {\n",
       "        text-align: right;\n",
       "    }\n",
       "</style>\n",
       "<table border=\"1\" class=\"dataframe\">\n",
       "  <thead>\n",
       "    <tr style=\"text-align: right;\">\n",
       "      <th></th>\n",
       "      <th>Department</th>\n",
       "      <th>Count</th>\n",
       "    </tr>\n",
       "  </thead>\n",
       "  <tbody>\n",
       "    <tr>\n",
       "      <th>0</th>\n",
       "      <td>IT</td>\n",
       "      <td>2</td>\n",
       "    </tr>\n",
       "    <tr>\n",
       "      <th>1</th>\n",
       "      <td>HR</td>\n",
       "      <td>1</td>\n",
       "    </tr>\n",
       "    <tr>\n",
       "      <th>2</th>\n",
       "      <td>Finance</td>\n",
       "      <td>0</td>\n",
       "    </tr>\n",
       "  </tbody>\n",
       "</table>\n",
       "</div>"
      ],
      "text/plain": [
       "  Department  Count\n",
       "0         IT      2\n",
       "1         HR      1\n",
       "2    Finance      0"
      ]
     },
     "execution_count": 40,
     "metadata": {},
     "output_type": "execute_result"
    }
   ],
   "source": [
    "# SQL solution\n",
    "pd.read_sql_query(f'''\n",
    "    SELECT \"Department\", COUNT(CASE WHEN \"YearsWithCompany\" > 4 THEN TRUE ELSE NULL END) AS \"Count\"\n",
    "    FROM {schema}.employees\n",
    "    GROUP BY \"Department\"\n",
    "    ORDER BY \"Count\" DESC\n",
    "''',conn)"
   ]
  },
  {
   "cell_type": "code",
   "execution_count": 41,
   "metadata": {},
   "outputs": [
    {
     "name": "stdout",
     "output_type": "stream",
     "text": [
      "+----------+-----+\n",
      "|Department|Count|\n",
      "+----------+-----+\n",
      "|        IT|    2|\n",
      "|        HR|    1|\n",
      "|   Finance|    0|\n",
      "+----------+-----+\n",
      "\n"
     ]
    }
   ],
   "source": [
    "# PySpark solution\n",
    "count_cond = lambda cond: F.sum(F.when(cond, 1).otherwise(0))\n",
    "tenure_counts = employees_ps.groupBy('Department').agg(count_cond(F.col('YearsWithCompany') > 4).alias('Count'))\n",
    "tenure_counts.orderBy(F.desc('Count')).show()"
   ]
  },
  {
   "cell_type": "markdown",
   "metadata": {},
   "source": [
    "**Q10: (A) Calculate the total salary dispensed by the company each year for the years 2018 until 2024.**\n",
    "\n",
    "**Assume that salaries are paid at the end of the year equivalent to the amount indicated in the 'Salary' column if the employee is able to work for that full year, or a fractional amount of the salary (floored) depending on the length worked by the employee on his starting year (e.g. Joining date: 2020-12-01 -> floor(Salary * 30 / 365) -> since there are 30 days left till the end of the year).**\n",
    "\n",
    "**(B) Break down the totals by department.**"
   ]
  },
  {
   "cell_type": "code",
   "execution_count": 44,
   "metadata": {},
   "outputs": [
    {
     "data": {
      "text/html": [
       "<div>\n",
       "<style scoped>\n",
       "    .dataframe tbody tr th:only-of-type {\n",
       "        vertical-align: middle;\n",
       "    }\n",
       "\n",
       "    .dataframe tbody tr th {\n",
       "        vertical-align: top;\n",
       "    }\n",
       "\n",
       "    .dataframe thead th {\n",
       "        text-align: right;\n",
       "    }\n",
       "</style>\n",
       "<table border=\"1\" class=\"dataframe\">\n",
       "  <thead>\n",
       "    <tr style=\"text-align: right;\">\n",
       "      <th></th>\n",
       "      <th>Cumulative Salary</th>\n",
       "    </tr>\n",
       "  </thead>\n",
       "  <tbody>\n",
       "    <tr>\n",
       "      <th>2018</th>\n",
       "      <td>35287.0</td>\n",
       "    </tr>\n",
       "    <tr>\n",
       "      <th>2019</th>\n",
       "      <td>174739.0</td>\n",
       "    </tr>\n",
       "    <tr>\n",
       "      <th>2020</th>\n",
       "      <td>267876.0</td>\n",
       "    </tr>\n",
       "    <tr>\n",
       "      <th>2021</th>\n",
       "      <td>334794.0</td>\n",
       "    </tr>\n",
       "    <tr>\n",
       "      <th>2022</th>\n",
       "      <td>350000.0</td>\n",
       "    </tr>\n",
       "    <tr>\n",
       "      <th>2023</th>\n",
       "      <td>350000.0</td>\n",
       "    </tr>\n",
       "    <tr>\n",
       "      <th>2024</th>\n",
       "      <td>350000.0</td>\n",
       "    </tr>\n",
       "  </tbody>\n",
       "</table>\n",
       "</div>"
      ],
      "text/plain": [
       "      Cumulative Salary\n",
       "2018            35287.0\n",
       "2019           174739.0\n",
       "2020           267876.0\n",
       "2021           334794.0\n",
       "2022           350000.0\n",
       "2023           350000.0\n",
       "2024           350000.0"
      ]
     },
     "execution_count": 44,
     "metadata": {},
     "output_type": "execute_result"
    }
   ],
   "source": [
    "# Pandas solution\n",
    "cumsum_dict = {\n",
    "    2018:0.0,\n",
    "    2019:0.0,\n",
    "    2020:0.0,\n",
    "    2021:0.0,\n",
    "    2022:0.0,\n",
    "    2023:0.0,\n",
    "    2024:0.0\n",
    "}\n",
    "for i, row in employees_pd.iterrows():\n",
    "    key = row['JoiningDate'].year\n",
    "    cumsum_dict[key] += math.floor((date(key,12,31).timetuple().tm_yday - row['JoiningDate'].timetuple().tm_yday) / 365 * row['Salary'])\n",
    "    while key < 2024:\n",
    "        key += 1\n",
    "        cumsum_dict[key] += row['Salary']\n",
    "pd.DataFrame(cumsum_dict, index=['Cumulative Salary']).T"
   ]
  }
 ],
 "metadata": {
  "kernelspec": {
   "display_name": "Python 3",
   "language": "python",
   "name": "python3"
  },
  "language_info": {
   "codemirror_mode": {
    "name": "ipython",
    "version": 3
   },
   "file_extension": ".py",
   "mimetype": "text/x-python",
   "name": "python",
   "nbconvert_exporter": "python",
   "pygments_lexer": "ipython3",
   "version": "3.11.9"
  }
 },
 "nbformat": 4,
 "nbformat_minor": 2
}
