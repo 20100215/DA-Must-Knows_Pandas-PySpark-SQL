{
 "cells": [
  {
   "cell_type": "markdown",
   "metadata": {},
   "source": [
    "# Data Analytics Must Knows\n",
    "\n",
    "### Pandas, SQL"
   ]
  },
  {
   "cell_type": "markdown",
   "metadata": {},
   "source": [
    "Situation: \n",
    "\n",
    "You are given a JSON data formatted as a string which holds basic employee information in a company that has several departments, and you are given a series of analytics questions to analyze. \n",
    "\n",
    "You are to provide your solutions to each question in every language/library - **Pandas**, **SQL**, and **PySpark**.\n",
    "\n",
    "The data given to you is shown in the next cell:"
   ]
  },
  {
   "cell_type": "code",
   "execution_count": 1,
   "metadata": {},
   "outputs": [],
   "source": [
    "employees_json = \"\"\"\n",
    "    [\n",
    "        {\"EmployeeID\":1, \"Name\":\"Alice\", \"Department\":\"HR\", \"Salary\":60000, \"JoiningDate\":\"2020-01-15\", \"PerformanceScore\":3},\n",
    "        {\"EmployeeID\":2, \"Name\":\"Bob\", \"Department\":\"IT\", \"Salary\":70000, \"JoiningDate\":\"2019-06-20\", \"PerformanceScore\":4},\n",
    "        {\"EmployeeID\":3, \"Name\":\"Charlie\", \"Department\":\"IT\", \"Salary\":80000, \"JoiningDate\":\"2018-07-23\", \"PerformanceScore\":2},\n",
    "        {\"EmployeeID\":4, \"Name\":\"David\", \"Department\":\"HR\", \"Salary\":65000, \"JoiningDate\":\"2020-02-10\", \"PerformanceScore\":5},\n",
    "        {\"EmployeeID\":5, \"Name\":\"Eve\", \"Department\":\"Finance\", \"Salary\":75000, \"JoiningDate\":\"2021-03-15\", \"PerformanceScore\":3}\n",
    "    ]\n",
    "\"\"\"\n",
    "bonuses_json = \"\"\"\n",
    "    [\n",
    "        {\"EmployeeID\":1, \"Bonus\":5000},\n",
    "        {\"EmployeeID\":2, \"Bonus\":7000},\n",
    "        {\"EmployeeID\":3, \"Bonus\":8000},\n",
    "        {\"EmployeeID\":6, \"Bonus\":6000}\n",
    "    ]\n",
    "\"\"\""
   ]
  },
  {
   "cell_type": "markdown",
   "metadata": {},
   "source": [
    "**Q0: Import the necessary libraries and perform the necessary setup to complete the tasks for all the indivated languages and libraries.**"
   ]
  },
  {
   "cell_type": "markdown",
   "metadata": {},
   "source": [
    "Import libraries"
   ]
  },
  {
   "cell_type": "code",
   "execution_count": 2,
   "metadata": {},
   "outputs": [],
   "source": [
    "# DateTime\n",
    "from datetime import datetime, date \n",
    "# JSON\n",
    "import json\n",
    "# Pandas\n",
    "import pandas as pd\n",
    "# SQL\n",
    "import os\n",
    "from dotenv import load_dotenv\n",
    "import psycopg2\n",
    "from sqlalchemy import create_engine\n",
    "from sqlalchemy.sql import text"
   ]
  },
  {
   "cell_type": "markdown",
   "metadata": {},
   "source": [
    "JSON Parsing"
   ]
  },
  {
   "cell_type": "code",
   "execution_count": 3,
   "metadata": {},
   "outputs": [
    {
     "data": {
      "text/plain": [
       "{'EmployeeID': 1,\n",
       " 'Name': 'Alice',\n",
       " 'Department': 'HR',\n",
       " 'Salary': 60000,\n",
       " 'JoiningDate': '2020-01-15',\n",
       " 'PerformanceScore': 3}"
      ]
     },
     "execution_count": 3,
     "metadata": {},
     "output_type": "execute_result"
    }
   ],
   "source": [
    "# JSON Parsing (Employee)\n",
    "employees_dict = json.loads(employees_json)\n",
    "employees_dict[0]"
   ]
  },
  {
   "cell_type": "code",
   "execution_count": 4,
   "metadata": {},
   "outputs": [
    {
     "data": {
      "text/plain": [
       "{'EmployeeID': 1, 'Bonus': 5000}"
      ]
     },
     "execution_count": 4,
     "metadata": {},
     "output_type": "execute_result"
    }
   ],
   "source": [
    "# JSON Parsing (Bonuses)\n",
    "bonuses_dict = json.loads(bonuses_json)\n",
    "bonuses_dict[0]"
   ]
  },
  {
   "cell_type": "markdown",
   "metadata": {},
   "source": [
    "Setup Pandas"
   ]
  },
  {
   "cell_type": "code",
   "execution_count": 5,
   "metadata": {},
   "outputs": [
    {
     "data": {
      "text/html": [
       "<div>\n",
       "<style scoped>\n",
       "    .dataframe tbody tr th:only-of-type {\n",
       "        vertical-align: middle;\n",
       "    }\n",
       "\n",
       "    .dataframe tbody tr th {\n",
       "        vertical-align: top;\n",
       "    }\n",
       "\n",
       "    .dataframe thead th {\n",
       "        text-align: right;\n",
       "    }\n",
       "</style>\n",
       "<table border=\"1\" class=\"dataframe\">\n",
       "  <thead>\n",
       "    <tr style=\"text-align: right;\">\n",
       "      <th></th>\n",
       "      <th>EmployeeID</th>\n",
       "      <th>Name</th>\n",
       "      <th>Department</th>\n",
       "      <th>Salary</th>\n",
       "      <th>JoiningDate</th>\n",
       "      <th>PerformanceScore</th>\n",
       "    </tr>\n",
       "  </thead>\n",
       "  <tbody>\n",
       "    <tr>\n",
       "      <th>0</th>\n",
       "      <td>1</td>\n",
       "      <td>Alice</td>\n",
       "      <td>HR</td>\n",
       "      <td>60000</td>\n",
       "      <td>2020-01-15</td>\n",
       "      <td>3</td>\n",
       "    </tr>\n",
       "    <tr>\n",
       "      <th>1</th>\n",
       "      <td>2</td>\n",
       "      <td>Bob</td>\n",
       "      <td>IT</td>\n",
       "      <td>70000</td>\n",
       "      <td>2019-06-20</td>\n",
       "      <td>4</td>\n",
       "    </tr>\n",
       "    <tr>\n",
       "      <th>2</th>\n",
       "      <td>3</td>\n",
       "      <td>Charlie</td>\n",
       "      <td>IT</td>\n",
       "      <td>80000</td>\n",
       "      <td>2018-07-23</td>\n",
       "      <td>2</td>\n",
       "    </tr>\n",
       "    <tr>\n",
       "      <th>3</th>\n",
       "      <td>4</td>\n",
       "      <td>David</td>\n",
       "      <td>HR</td>\n",
       "      <td>65000</td>\n",
       "      <td>2020-02-10</td>\n",
       "      <td>5</td>\n",
       "    </tr>\n",
       "    <tr>\n",
       "      <th>4</th>\n",
       "      <td>5</td>\n",
       "      <td>Eve</td>\n",
       "      <td>Finance</td>\n",
       "      <td>75000</td>\n",
       "      <td>2021-03-15</td>\n",
       "      <td>3</td>\n",
       "    </tr>\n",
       "  </tbody>\n",
       "</table>\n",
       "</div>"
      ],
      "text/plain": [
       "   EmployeeID     Name Department  Salary JoiningDate  PerformanceScore\n",
       "0           1    Alice         HR   60000  2020-01-15                 3\n",
       "1           2      Bob         IT   70000  2019-06-20                 4\n",
       "2           3  Charlie         IT   80000  2018-07-23                 2\n",
       "3           4    David         HR   65000  2020-02-10                 5\n",
       "4           5      Eve    Finance   75000  2021-03-15                 3"
      ]
     },
     "execution_count": 5,
     "metadata": {},
     "output_type": "execute_result"
    }
   ],
   "source": [
    "employees_pd = pd.DataFrame(employees_dict)\n",
    "employees_pd"
   ]
  },
  {
   "cell_type": "code",
   "execution_count": 6,
   "metadata": {},
   "outputs": [
    {
     "data": {
      "text/html": [
       "<div>\n",
       "<style scoped>\n",
       "    .dataframe tbody tr th:only-of-type {\n",
       "        vertical-align: middle;\n",
       "    }\n",
       "\n",
       "    .dataframe tbody tr th {\n",
       "        vertical-align: top;\n",
       "    }\n",
       "\n",
       "    .dataframe thead th {\n",
       "        text-align: right;\n",
       "    }\n",
       "</style>\n",
       "<table border=\"1\" class=\"dataframe\">\n",
       "  <thead>\n",
       "    <tr style=\"text-align: right;\">\n",
       "      <th></th>\n",
       "      <th>EmployeeID</th>\n",
       "      <th>Bonus</th>\n",
       "    </tr>\n",
       "  </thead>\n",
       "  <tbody>\n",
       "    <tr>\n",
       "      <th>0</th>\n",
       "      <td>1</td>\n",
       "      <td>5000</td>\n",
       "    </tr>\n",
       "    <tr>\n",
       "      <th>1</th>\n",
       "      <td>2</td>\n",
       "      <td>7000</td>\n",
       "    </tr>\n",
       "    <tr>\n",
       "      <th>2</th>\n",
       "      <td>3</td>\n",
       "      <td>8000</td>\n",
       "    </tr>\n",
       "    <tr>\n",
       "      <th>3</th>\n",
       "      <td>6</td>\n",
       "      <td>6000</td>\n",
       "    </tr>\n",
       "  </tbody>\n",
       "</table>\n",
       "</div>"
      ],
      "text/plain": [
       "   EmployeeID  Bonus\n",
       "0           1   5000\n",
       "1           2   7000\n",
       "2           3   8000\n",
       "3           6   6000"
      ]
     },
     "execution_count": 6,
     "metadata": {},
     "output_type": "execute_result"
    }
   ],
   "source": [
    "bonuses_pd = pd.DataFrame(bonuses_dict)\n",
    "bonuses_pd"
   ]
  },
  {
   "cell_type": "markdown",
   "metadata": {},
   "source": [
    "Setup PostgreSQL"
   ]
  },
  {
   "cell_type": "code",
   "execution_count": 7,
   "metadata": {},
   "outputs": [],
   "source": [
    "# Get credentials\n",
    "load_dotenv()\n",
    "user = os.environ.get(\"USER\")\n",
    "pw = os.environ.get(\"PASS\")\n",
    "db = os.environ.get(\"DB\")\n",
    "host = os.environ.get(\"HOST\")\n",
    "api = os.environ.get(\"API\")\n",
    "port = 5432\n",
    "schema = 'da_must_knows'"
   ]
  },
  {
   "cell_type": "code",
   "execution_count": 8,
   "metadata": {},
   "outputs": [],
   "source": [
    "# Connect to database\n",
    "uri = f\"postgresql+psycopg2://{user}:{pw}@{host}:{port}/{db}\"\n",
    "alchemyEngine = create_engine(uri)\n",
    "conn = alchemyEngine.connect()"
   ]
  },
  {
   "cell_type": "code",
   "execution_count": null,
   "metadata": {},
   "outputs": [],
   "source": [
    "# Load to SQL\n",
    "employees_pd.to_sql(con=conn,name=\"employees\",schema=schema)\n",
    "bonuses_pd.to_sql(con=conn,name=\"bonuses\",schema=schema)"
   ]
  },
  {
   "cell_type": "code",
   "execution_count": 9,
   "metadata": {},
   "outputs": [
    {
     "name": "stdout",
     "output_type": "stream",
     "text": [
      "The tables in the database are: \n",
      "- employees\n",
      "- bonuses\n"
     ]
    }
   ],
   "source": [
    "rs = conn.execute(text(f\"SELECT table_name FROM information_schema.tables WHERE table_schema='{schema}'\"))\n",
    "tables = [table[0] for table in rs.fetchall()]\n",
    "print(f'The tables in the database are: \\n- {'\\n- '.join(tables)}')"
   ]
  },
  {
   "cell_type": "code",
   "execution_count": 10,
   "metadata": {},
   "outputs": [
    {
     "name": "stdout",
     "output_type": "stream",
     "text": [
      "=================================\n",
      "Table [employees]\n",
      "Dimensions: 5 rows x 7 columns\n",
      "\n",
      "   index  EmployeeID     Name Department  Salary JoiningDate  PerformanceScore\n",
      "0      0           1    Alice         HR   60000  2020-01-15                 3\n",
      "1      1           2      Bob         IT   70000  2019-06-20                 4\n",
      "2      2           3  Charlie         IT   80000  2018-07-23                 2\n",
      "3      3           4    David         HR   65000  2020-02-10                 5\n",
      "4      4           5      Eve    Finance   75000  2021-03-15                 3\n",
      "\n",
      "                 Datatypes  NULL count\n",
      "index                int64           0\n",
      "EmployeeID           int64           0\n",
      "Name                object           0\n",
      "Department          object           0\n",
      "Salary               int64           0\n",
      "JoiningDate         object           0\n",
      "PerformanceScore     int64           0\n",
      "\n",
      "=================================\n",
      "Table [bonuses]\n",
      "Dimensions: 4 rows x 3 columns\n",
      "\n",
      "   index  EmployeeID  Bonus\n",
      "0      0           1   5000\n",
      "1      1           2   7000\n",
      "2      2           3   8000\n",
      "3      3           6   6000\n",
      "\n",
      "           Datatypes  NULL count\n",
      "index          int64           0\n",
      "EmployeeID     int64           0\n",
      "Bonus          int64           0\n",
      "\n"
     ]
    }
   ],
   "source": [
    "for table in tables:\n",
    "    print(\"=================================\")\n",
    "    print(f'Table [{table}]')\n",
    "    df = pd.read_sql_query(f'SELECT * FROM {schema}.{table} LIMIT 5', conn)\n",
    "    print(f'Dimensions: {df.shape[0]} rows x {df.shape[1]} columns\\n')\n",
    "    print(df.head())\n",
    "    info_df = pd.DataFrame.from_dict({'Datatypes':df.dtypes, 'NULL count':df.isna().sum()})\n",
    "    print()\n",
    "    print(info_df)\n",
    "    print()"
   ]
  }
 ],
 "metadata": {
  "kernelspec": {
   "display_name": "Python 3",
   "language": "python",
   "name": "python3"
  },
  "language_info": {
   "codemirror_mode": {
    "name": "ipython",
    "version": 3
   },
   "file_extension": ".py",
   "mimetype": "text/x-python",
   "name": "python",
   "nbconvert_exporter": "python",
   "pygments_lexer": "ipython3",
   "version": "3.12.3"
  }
 },
 "nbformat": 4,
 "nbformat_minor": 2
}
